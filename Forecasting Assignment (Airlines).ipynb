{
 "cells": [
  {
   "cell_type": "code",
   "execution_count": 1,
   "id": "360aeee0",
   "metadata": {},
   "outputs": [],
   "source": [
    "import pandas as pd\n",
    "import numpy as np\n",
    "import pandas as pd\n",
    "import matplotlib.pyplot as plt\n",
    "import seaborn as sns\n",
    "from statsmodels.tsa.seasonal import seasonal_decompose\n",
    "from statsmodels.tsa.holtwinters import SimpleExpSmoothing # SES\n",
    "from statsmodels.tsa.holtwinters import Holt # Holts Exponential Smoothing\n",
    "from statsmodels.tsa.holtwinters import ExponentialSmoothing\n",
    "from sklearn.metrics import mean_squared_error\n",
    "import warnings\n",
    "import itertools\n",
    "from math import sqrt\n",
    "import statsmodels.api as sm\n",
    "from statsmodels.tsa.arima.model import ARIMA, ARIMAResults"
   ]
  },
  {
   "cell_type": "code",
   "execution_count": 2,
   "id": "ccc962fe",
   "metadata": {},
   "outputs": [
    {
     "data": {
      "text/html": [
       "<div>\n",
       "<style scoped>\n",
       "    .dataframe tbody tr th:only-of-type {\n",
       "        vertical-align: middle;\n",
       "    }\n",
       "\n",
       "    .dataframe tbody tr th {\n",
       "        vertical-align: top;\n",
       "    }\n",
       "\n",
       "    .dataframe thead th {\n",
       "        text-align: right;\n",
       "    }\n",
       "</style>\n",
       "<table border=\"1\" class=\"dataframe\">\n",
       "  <thead>\n",
       "    <tr style=\"text-align: right;\">\n",
       "      <th></th>\n",
       "      <th>Passengers</th>\n",
       "    </tr>\n",
       "    <tr>\n",
       "      <th>Month</th>\n",
       "      <th></th>\n",
       "    </tr>\n",
       "  </thead>\n",
       "  <tbody>\n",
       "    <tr>\n",
       "      <th>1995-01-01</th>\n",
       "      <td>112</td>\n",
       "    </tr>\n",
       "    <tr>\n",
       "      <th>1995-02-01</th>\n",
       "      <td>118</td>\n",
       "    </tr>\n",
       "    <tr>\n",
       "      <th>1995-03-01</th>\n",
       "      <td>132</td>\n",
       "    </tr>\n",
       "    <tr>\n",
       "      <th>1995-04-01</th>\n",
       "      <td>129</td>\n",
       "    </tr>\n",
       "    <tr>\n",
       "      <th>1995-05-01</th>\n",
       "      <td>121</td>\n",
       "    </tr>\n",
       "    <tr>\n",
       "      <th>...</th>\n",
       "      <td>...</td>\n",
       "    </tr>\n",
       "    <tr>\n",
       "      <th>2002-08-01</th>\n",
       "      <td>405</td>\n",
       "    </tr>\n",
       "    <tr>\n",
       "      <th>2002-09-01</th>\n",
       "      <td>355</td>\n",
       "    </tr>\n",
       "    <tr>\n",
       "      <th>2002-10-01</th>\n",
       "      <td>306</td>\n",
       "    </tr>\n",
       "    <tr>\n",
       "      <th>2002-11-01</th>\n",
       "      <td>271</td>\n",
       "    </tr>\n",
       "    <tr>\n",
       "      <th>2002-12-01</th>\n",
       "      <td>306</td>\n",
       "    </tr>\n",
       "  </tbody>\n",
       "</table>\n",
       "<p>96 rows × 1 columns</p>\n",
       "</div>"
      ],
      "text/plain": [
       "            Passengers\n",
       "Month                 \n",
       "1995-01-01         112\n",
       "1995-02-01         118\n",
       "1995-03-01         132\n",
       "1995-04-01         129\n",
       "1995-05-01         121\n",
       "...                ...\n",
       "2002-08-01         405\n",
       "2002-09-01         355\n",
       "2002-10-01         306\n",
       "2002-11-01         271\n",
       "2002-12-01         306\n",
       "\n",
       "[96 rows x 1 columns]"
      ]
     },
     "execution_count": 2,
     "metadata": {},
     "output_type": "execute_result"
    }
   ],
   "source": [
    "Airlines=pd.read_excel(\"C:/Users/icon/Downloads/Airlines+Data.xlsx\",index_col=0, parse_dates=['Month'])\n",
    "Airlines"
   ]
  },
  {
   "cell_type": "markdown",
   "id": "f7e9dfa4",
   "metadata": {},
   "source": [
    "## Visualizations"
   ]
  },
  {
   "cell_type": "code",
   "execution_count": 3,
   "id": "4b15ee5a",
   "metadata": {},
   "outputs": [
    {
     "name": "stdout",
     "output_type": "stream",
     "text": [
      "<class 'pandas.core.frame.DataFrame'>\n",
      "DatetimeIndex: 96 entries, 1995-01-01 to 2002-12-01\n",
      "Data columns (total 1 columns):\n",
      " #   Column      Non-Null Count  Dtype\n",
      "---  ------      --------------  -----\n",
      " 0   Passengers  96 non-null     int64\n",
      "dtypes: int64(1)\n",
      "memory usage: 1.5 KB\n"
     ]
    }
   ],
   "source": [
    "Airlines.info()"
   ]
  },
  {
   "cell_type": "code",
   "execution_count": 4,
   "id": "fcc03ca0",
   "metadata": {},
   "outputs": [
    {
     "data": {
      "text/html": [
       "<div>\n",
       "<style scoped>\n",
       "    .dataframe tbody tr th:only-of-type {\n",
       "        vertical-align: middle;\n",
       "    }\n",
       "\n",
       "    .dataframe tbody tr th {\n",
       "        vertical-align: top;\n",
       "    }\n",
       "\n",
       "    .dataframe thead th {\n",
       "        text-align: right;\n",
       "    }\n",
       "</style>\n",
       "<table border=\"1\" class=\"dataframe\">\n",
       "  <thead>\n",
       "    <tr style=\"text-align: right;\">\n",
       "      <th></th>\n",
       "      <th>Passengers</th>\n",
       "    </tr>\n",
       "    <tr>\n",
       "      <th>Month</th>\n",
       "      <th></th>\n",
       "    </tr>\n",
       "  </thead>\n",
       "  <tbody>\n",
       "    <tr>\n",
       "      <th>1995-01-01</th>\n",
       "      <td>112</td>\n",
       "    </tr>\n",
       "    <tr>\n",
       "      <th>1995-02-01</th>\n",
       "      <td>118</td>\n",
       "    </tr>\n",
       "    <tr>\n",
       "      <th>1995-03-01</th>\n",
       "      <td>132</td>\n",
       "    </tr>\n",
       "    <tr>\n",
       "      <th>1995-04-01</th>\n",
       "      <td>129</td>\n",
       "    </tr>\n",
       "    <tr>\n",
       "      <th>1995-05-01</th>\n",
       "      <td>121</td>\n",
       "    </tr>\n",
       "    <tr>\n",
       "      <th>...</th>\n",
       "      <td>...</td>\n",
       "    </tr>\n",
       "    <tr>\n",
       "      <th>2002-08-01</th>\n",
       "      <td>405</td>\n",
       "    </tr>\n",
       "    <tr>\n",
       "      <th>2002-09-01</th>\n",
       "      <td>355</td>\n",
       "    </tr>\n",
       "    <tr>\n",
       "      <th>2002-10-01</th>\n",
       "      <td>306</td>\n",
       "    </tr>\n",
       "    <tr>\n",
       "      <th>2002-11-01</th>\n",
       "      <td>271</td>\n",
       "    </tr>\n",
       "    <tr>\n",
       "      <th>2002-12-01</th>\n",
       "      <td>306</td>\n",
       "    </tr>\n",
       "  </tbody>\n",
       "</table>\n",
       "<p>96 rows × 1 columns</p>\n",
       "</div>"
      ],
      "text/plain": [
       "            Passengers\n",
       "Month                 \n",
       "1995-01-01         112\n",
       "1995-02-01         118\n",
       "1995-03-01         132\n",
       "1995-04-01         129\n",
       "1995-05-01         121\n",
       "...                ...\n",
       "2002-08-01         405\n",
       "2002-09-01         355\n",
       "2002-10-01         306\n",
       "2002-11-01         271\n",
       "2002-12-01         306\n",
       "\n",
       "[96 rows x 1 columns]"
      ]
     },
     "execution_count": 4,
     "metadata": {},
     "output_type": "execute_result"
    }
   ],
   "source": [
    "Airlines = pd.read_excel(\"C:/Users/icon/Downloads/Airlines+Data.xlsx\",\n",
    "                     index_col = 0,\n",
    "                     header = 0,\n",
    "                     parse_dates = True)\n",
    "Airlines"
   ]
  },
  {
   "cell_type": "code",
   "execution_count": 5,
   "id": "59c157e0",
   "metadata": {},
   "outputs": [
    {
     "data": {
      "text/plain": [
       "DatetimeIndex(['1995-01-01', '1995-02-01', '1995-03-01', '1995-04-01',\n",
       "               '1995-05-01', '1995-06-01', '1995-07-01', '1995-08-01',\n",
       "               '1995-09-01', '1995-10-01', '1995-11-01', '1995-12-01',\n",
       "               '1996-01-01', '1996-02-01', '1996-03-01', '1996-04-01',\n",
       "               '1996-05-01', '1996-06-01', '1996-07-01', '1996-08-01',\n",
       "               '1996-09-01', '1996-10-01', '1996-11-01', '1996-12-01',\n",
       "               '1997-01-01', '1997-02-01', '1997-03-01', '1997-04-01',\n",
       "               '1997-05-01', '1997-06-01', '1997-07-01', '1997-08-01',\n",
       "               '1997-09-01', '1997-10-01', '1997-11-01', '1997-12-01',\n",
       "               '1998-01-01', '1998-02-01', '1998-03-01', '1998-04-01',\n",
       "               '1998-05-01', '1998-06-01', '1998-07-01', '1998-08-01',\n",
       "               '1998-09-01', '1998-10-01', '1998-11-01', '1998-12-01',\n",
       "               '1999-01-01', '1999-02-01', '1999-03-01', '1999-04-01',\n",
       "               '1999-05-01', '1999-06-01', '1999-07-01', '1999-08-01',\n",
       "               '1999-09-01', '1999-10-01', '1999-11-01', '1999-12-01',\n",
       "               '2000-01-01', '2000-02-01', '2000-03-01', '2000-04-01',\n",
       "               '2000-05-01', '2000-06-01', '2000-07-01', '2000-08-01',\n",
       "               '2000-09-01', '2000-10-01', '2000-11-01', '2000-12-01',\n",
       "               '2001-01-01', '2001-02-01', '2001-03-01', '2001-04-01',\n",
       "               '2001-05-01', '2001-06-01', '2001-07-01', '2001-08-01',\n",
       "               '2001-09-01', '2001-10-01', '2001-11-01', '2001-12-01',\n",
       "               '2002-01-01', '2002-02-01', '2002-03-01', '2002-04-01',\n",
       "               '2002-05-01', '2002-06-01', '2002-07-01', '2002-08-01',\n",
       "               '2002-09-01', '2002-10-01', '2002-11-01', '2002-12-01'],\n",
       "              dtype='datetime64[ns]', name='Month', freq=None)"
      ]
     },
     "execution_count": 5,
     "metadata": {},
     "output_type": "execute_result"
    }
   ],
   "source": [
    "Airlines.index"
   ]
  },
  {
   "cell_type": "code",
   "execution_count": 6,
   "id": "ed9aa5c1",
   "metadata": {},
   "outputs": [
    {
     "data": {
      "text/plain": [
       "[<matplotlib.lines.Line2D at 0x279ccda6e20>]"
      ]
     },
     "execution_count": 6,
     "metadata": {},
     "output_type": "execute_result"
    },
    {
     "data": {
      "image/png": "[encoded data removed]",
      "text/plain": [
       "<Figure size 1440x576 with 1 Axes>"
      ]
     },
     "metadata": {
      "needs_background": "light"
     },
     "output_type": "display_data"
    }
   ],
   "source": [
    "plt.figure(figsize = (20,8))\n",
    "plt.plot(Airlines)"
   ]
  },
  {
   "cell_type": "markdown",
   "id": "e991aa7b",
   "metadata": {},
   "source": [
    "#### Histogram and Density Plots"
   ]
  },
  {
   "cell_type": "code",
   "execution_count": 7,
   "id": "307ff255",
   "metadata": {},
   "outputs": [
    {
     "data": {
      "text/plain": [
       "array([[<AxesSubplot:title={'center':'Passengers'}>]], dtype=object)"
      ]
     },
     "execution_count": 7,
     "metadata": {},
     "output_type": "execute_result"
    },
    {
     "data": {
      "image/png": "[encoded data removed]",
      "text/plain": [
       "<Figure size 432x288 with 1 Axes>"
      ]
     },
     "metadata": {
      "needs_background": "light"
     },
     "output_type": "display_data"
    }
   ],
   "source": [
    "# create a histogram plot\n",
    "Airlines.hist()"
   ]
  },
  {
   "cell_type": "code",
   "execution_count": 8,
   "id": "b8ada42e",
   "metadata": {},
   "outputs": [
    {
     "data": {
      "text/plain": [
       "<AxesSubplot:ylabel='Density'>"
      ]
     },
     "execution_count": 8,
     "metadata": {},
     "output_type": "execute_result"
    },
    {
     "data": {
      "image/png": "[encoded data removed]",
      "text/plain": [
       "<Figure size 432x288 with 1 Axes>"
      ]
     },
     "metadata": {
      "needs_background": "light"
     },
     "output_type": "display_data"
    }
   ],
   "source": [
    "# create a density plot\n",
    "Airlines.plot(kind='kde')"
   ]
  },
  {
   "cell_type": "markdown",
   "id": "7f2cbef3",
   "metadata": {},
   "source": [
    "#### Box and Whisker Plots by Interval"
   ]
  },
  {
   "cell_type": "code",
   "execution_count": 9,
   "id": "b09a0820",
   "metadata": {},
   "outputs": [
    {
     "name": "stderr",
     "output_type": "stream",
     "text": [
      "C:\\Users\\icon\\AppData\\Local\\Temp\\ipykernel_4848\\1870753021.py:1: FutureWarning: The squeeze argument has been deprecated and will be removed in a future version. Append .squeeze(\"columns\") to the call to squeeze.\n",
      "\n",
      "\n",
      "  Airlines = pd.read_excel(\"C:/Users/icon/Downloads/Airlines+Data.xlsx\",\n"
     ]
    },
    {
     "data": {
      "text/plain": [
       "Month\n",
       "1995-01-01    112\n",
       "1995-02-01    118\n",
       "1995-03-01    132\n",
       "1995-04-01    129\n",
       "1995-05-01    121\n",
       "             ... \n",
       "2002-08-01    405\n",
       "2002-09-01    355\n",
       "2002-10-01    306\n",
       "2002-11-01    271\n",
       "2002-12-01    306\n",
       "Name: Passengers, Length: 96, dtype: int64"
      ]
     },
     "execution_count": 9,
     "metadata": {},
     "output_type": "execute_result"
    }
   ],
   "source": [
    "Airlines = pd.read_excel(\"C:/Users/icon/Downloads/Airlines+Data.xlsx\",\n",
    "                     index_col = 0,\n",
    "                     header = 0,\n",
    "                     parse_dates = True,\n",
    "                    squeeze=True)\n",
    "Airlines"
   ]
  },
  {
   "cell_type": "code",
   "execution_count": 10,
   "id": "3df0c024",
   "metadata": {},
   "outputs": [
    {
     "data": {
      "text/plain": [
       "pandas.core.series.Series"
      ]
     },
     "execution_count": 10,
     "metadata": {},
     "output_type": "execute_result"
    }
   ],
   "source": [
    "type(Airlines)"
   ]
  },
  {
   "cell_type": "code",
   "execution_count": 11,
   "id": "4ebd3b84",
   "metadata": {},
   "outputs": [
    {
     "data": {
      "text/plain": [
       "<pandas.core.groupby.generic.SeriesGroupBy object at 0x00000279CD03EE50>"
      ]
     },
     "execution_count": 11,
     "metadata": {},
     "output_type": "execute_result"
    }
   ],
   "source": [
    "# Grouping by Year\n",
    "groups = Airlines.groupby(pd.Grouper(freq='A'))\n",
    "groups"
   ]
  },
  {
   "cell_type": "code",
   "execution_count": 12,
   "id": "fbf01ba0",
   "metadata": {},
   "outputs": [
    {
     "data": {
      "text/html": [
       "<div>\n",
       "<style scoped>\n",
       "    .dataframe tbody tr th:only-of-type {\n",
       "        vertical-align: middle;\n",
       "    }\n",
       "\n",
       "    .dataframe tbody tr th {\n",
       "        vertical-align: top;\n",
       "    }\n",
       "\n",
       "    .dataframe thead th {\n",
       "        text-align: right;\n",
       "    }\n",
       "</style>\n",
       "<table border=\"1\" class=\"dataframe\">\n",
       "  <thead>\n",
       "    <tr style=\"text-align: right;\">\n",
       "      <th></th>\n",
       "      <th>1995</th>\n",
       "      <th>1996</th>\n",
       "      <th>1997</th>\n",
       "      <th>1998</th>\n",
       "      <th>1999</th>\n",
       "      <th>2000</th>\n",
       "      <th>2001</th>\n",
       "      <th>2002</th>\n",
       "    </tr>\n",
       "  </thead>\n",
       "  <tbody>\n",
       "    <tr>\n",
       "      <th>0</th>\n",
       "      <td>112</td>\n",
       "      <td>115</td>\n",
       "      <td>145</td>\n",
       "      <td>171</td>\n",
       "      <td>196</td>\n",
       "      <td>204</td>\n",
       "      <td>242</td>\n",
       "      <td>284</td>\n",
       "    </tr>\n",
       "    <tr>\n",
       "      <th>1</th>\n",
       "      <td>118</td>\n",
       "      <td>126</td>\n",
       "      <td>150</td>\n",
       "      <td>180</td>\n",
       "      <td>196</td>\n",
       "      <td>188</td>\n",
       "      <td>233</td>\n",
       "      <td>277</td>\n",
       "    </tr>\n",
       "    <tr>\n",
       "      <th>2</th>\n",
       "      <td>132</td>\n",
       "      <td>141</td>\n",
       "      <td>178</td>\n",
       "      <td>193</td>\n",
       "      <td>236</td>\n",
       "      <td>235</td>\n",
       "      <td>267</td>\n",
       "      <td>317</td>\n",
       "    </tr>\n",
       "    <tr>\n",
       "      <th>3</th>\n",
       "      <td>129</td>\n",
       "      <td>135</td>\n",
       "      <td>163</td>\n",
       "      <td>181</td>\n",
       "      <td>235</td>\n",
       "      <td>227</td>\n",
       "      <td>269</td>\n",
       "      <td>313</td>\n",
       "    </tr>\n",
       "    <tr>\n",
       "      <th>4</th>\n",
       "      <td>121</td>\n",
       "      <td>125</td>\n",
       "      <td>172</td>\n",
       "      <td>183</td>\n",
       "      <td>229</td>\n",
       "      <td>234</td>\n",
       "      <td>270</td>\n",
       "      <td>318</td>\n",
       "    </tr>\n",
       "    <tr>\n",
       "      <th>5</th>\n",
       "      <td>135</td>\n",
       "      <td>149</td>\n",
       "      <td>178</td>\n",
       "      <td>218</td>\n",
       "      <td>243</td>\n",
       "      <td>264</td>\n",
       "      <td>315</td>\n",
       "      <td>374</td>\n",
       "    </tr>\n",
       "    <tr>\n",
       "      <th>6</th>\n",
       "      <td>148</td>\n",
       "      <td>170</td>\n",
       "      <td>199</td>\n",
       "      <td>230</td>\n",
       "      <td>264</td>\n",
       "      <td>302</td>\n",
       "      <td>364</td>\n",
       "      <td>413</td>\n",
       "    </tr>\n",
       "    <tr>\n",
       "      <th>7</th>\n",
       "      <td>148</td>\n",
       "      <td>170</td>\n",
       "      <td>199</td>\n",
       "      <td>242</td>\n",
       "      <td>272</td>\n",
       "      <td>293</td>\n",
       "      <td>347</td>\n",
       "      <td>405</td>\n",
       "    </tr>\n",
       "    <tr>\n",
       "      <th>8</th>\n",
       "      <td>136</td>\n",
       "      <td>158</td>\n",
       "      <td>184</td>\n",
       "      <td>209</td>\n",
       "      <td>237</td>\n",
       "      <td>259</td>\n",
       "      <td>312</td>\n",
       "      <td>355</td>\n",
       "    </tr>\n",
       "    <tr>\n",
       "      <th>9</th>\n",
       "      <td>119</td>\n",
       "      <td>133</td>\n",
       "      <td>162</td>\n",
       "      <td>191</td>\n",
       "      <td>211</td>\n",
       "      <td>229</td>\n",
       "      <td>274</td>\n",
       "      <td>306</td>\n",
       "    </tr>\n",
       "    <tr>\n",
       "      <th>10</th>\n",
       "      <td>104</td>\n",
       "      <td>114</td>\n",
       "      <td>146</td>\n",
       "      <td>172</td>\n",
       "      <td>180</td>\n",
       "      <td>203</td>\n",
       "      <td>237</td>\n",
       "      <td>271</td>\n",
       "    </tr>\n",
       "    <tr>\n",
       "      <th>11</th>\n",
       "      <td>118</td>\n",
       "      <td>140</td>\n",
       "      <td>166</td>\n",
       "      <td>194</td>\n",
       "      <td>201</td>\n",
       "      <td>229</td>\n",
       "      <td>278</td>\n",
       "      <td>306</td>\n",
       "    </tr>\n",
       "  </tbody>\n",
       "</table>\n",
       "</div>"
      ],
      "text/plain": [
       "    1995  1996  1997  1998  1999  2000  2001  2002\n",
       "0    112   115   145   171   196   204   242   284\n",
       "1    118   126   150   180   196   188   233   277\n",
       "2    132   141   178   193   236   235   267   317\n",
       "3    129   135   163   181   235   227   269   313\n",
       "4    121   125   172   183   229   234   270   318\n",
       "5    135   149   178   218   243   264   315   374\n",
       "6    148   170   199   230   264   302   364   413\n",
       "7    148   170   199   242   272   293   347   405\n",
       "8    136   158   184   209   237   259   312   355\n",
       "9    119   133   162   191   211   229   274   306\n",
       "10   104   114   146   172   180   203   237   271\n",
       "11   118   140   166   194   201   229   278   306"
      ]
     },
     "execution_count": 12,
     "metadata": {},
     "output_type": "execute_result"
    }
   ],
   "source": [
    "years = pd.DataFrame()\n",
    "\n",
    "for name, group in groups:\n",
    "    years[name.year] = group.values\n",
    "\n",
    "years"
   ]
  },
  {
   "cell_type": "code",
   "execution_count": 13,
   "id": "4a3f6f41",
   "metadata": {},
   "outputs": [
    {
     "data": {
      "text/plain": [
       "<AxesSubplot:>"
      ]
     },
     "execution_count": 13,
     "metadata": {},
     "output_type": "execute_result"
    },
    {
     "data": {
      "image/png": "[encoded data removed]",
      "text/plain": [
       "<Figure size 1440x576 with 1 Axes>"
      ]
     },
     "metadata": {
      "needs_background": "light"
     },
     "output_type": "display_data"
    }
   ],
   "source": [
    "plt.figure(figsize = (20,8))\n",
    "years.boxplot()"
   ]
  },
  {
   "cell_type": "markdown",
   "id": "29ccae44",
   "metadata": {},
   "source": [
    "#### Lag plot"
   ]
  },
  {
   "cell_type": "code",
   "execution_count": 14,
   "id": "2507e1ac",
   "metadata": {},
   "outputs": [
    {
     "data": {
      "text/plain": [
       "<AxesSubplot:xlabel='y(t)', ylabel='y(t + 1)'>"
      ]
     },
     "execution_count": 14,
     "metadata": {},
     "output_type": "execute_result"
    },
    {
     "data": {
      "image/png": "[encoded data removed]",
      "text/plain": [
       "<Figure size 1440x576 with 1 Axes>"
      ]
     },
     "metadata": {
      "needs_background": "light"
     },
     "output_type": "display_data"
    }
   ],
   "source": [
    "# create a scatter plot\n",
    "plt.figure(figsize = (20,8))\n",
    "pd.plotting.lag_plot(Airlines)"
   ]
  },
  {
   "cell_type": "code",
   "execution_count": 15,
   "id": "c9c72c1a",
   "metadata": {},
   "outputs": [
    {
     "data": {
      "text/plain": [
       "<Figure size 2880x720 with 0 Axes>"
      ]
     },
     "metadata": {},
     "output_type": "display_data"
    },
    {
     "data": {
      "image/png": "[encoded data removed]",
      "text/plain": [
       "<Figure size 432x288 with 1 Axes>"
      ]
     },
     "metadata": {
      "needs_background": "light"
     },
     "output_type": "display_data"
    }
   ],
   "source": [
    "# create an autocorrelation plot\n",
    "from statsmodels.graphics.tsaplots import plot_acf\n",
    "\n",
    "plt.figure(figsize = (40,10))\n",
    "plot_acf(Airlines, lags=90)\n",
    "plt.show()"
   ]
  },
  {
   "cell_type": "markdown",
   "id": "d5a245cb",
   "metadata": {},
   "source": [
    "### Sampling and Basic Transformations "
   ]
  },
  {
   "cell_type": "markdown",
   "id": "21f9896c",
   "metadata": {},
   "source": [
    "#### Upsampling Data"
   ]
  },
  {
   "cell_type": "code",
   "execution_count": 16,
   "id": "9846d8c7",
   "metadata": {},
   "outputs": [
    {
     "name": "stderr",
     "output_type": "stream",
     "text": [
      "C:\\Users\\icon\\AppData\\Local\\Temp\\ipykernel_4848\\1870753021.py:1: FutureWarning: The squeeze argument has been deprecated and will be removed in a future version. Append .squeeze(\"columns\") to the call to squeeze.\n",
      "\n",
      "\n",
      "  Airlines = pd.read_excel(\"C:/Users/icon/Downloads/Airlines+Data.xlsx\",\n"
     ]
    },
    {
     "data": {
      "text/plain": [
       "Month\n",
       "1995-01-01    112\n",
       "1995-02-01    118\n",
       "1995-03-01    132\n",
       "1995-04-01    129\n",
       "1995-05-01    121\n",
       "             ... \n",
       "2002-08-01    405\n",
       "2002-09-01    355\n",
       "2002-10-01    306\n",
       "2002-11-01    271\n",
       "2002-12-01    306\n",
       "Name: Passengers, Length: 96, dtype: int64"
      ]
     },
     "execution_count": 16,
     "metadata": {},
     "output_type": "execute_result"
    }
   ],
   "source": [
    "Airlines = pd.read_excel(\"C:/Users/icon/Downloads/Airlines+Data.xlsx\",\n",
    "                     index_col = 0,\n",
    "                     header = 0,\n",
    "                     parse_dates = True,\n",
    "                    squeeze=True)\n",
    "Airlines"
   ]
  },
  {
   "cell_type": "code",
   "execution_count": 17,
   "id": "5bb923ea",
   "metadata": {},
   "outputs": [
    {
     "data": {
      "text/plain": [
       "(96,)"
      ]
     },
     "execution_count": 17,
     "metadata": {},
     "output_type": "execute_result"
    }
   ],
   "source": [
    "Airlines.shape"
   ]
  },
  {
   "cell_type": "code",
   "execution_count": 18,
   "id": "4389d631",
   "metadata": {},
   "outputs": [
    {
     "data": {
      "text/plain": [
       "Month\n",
       "1995-01-01    112.0\n",
       "1995-01-02      NaN\n",
       "1995-01-03      NaN\n",
       "1995-01-04      NaN\n",
       "1995-01-05      NaN\n",
       "1995-01-06      NaN\n",
       "1995-01-07      NaN\n",
       "1995-01-08      NaN\n",
       "1995-01-09      NaN\n",
       "1995-01-10      NaN\n",
       "1995-01-11      NaN\n",
       "1995-01-12      NaN\n",
       "1995-01-13      NaN\n",
       "1995-01-14      NaN\n",
       "1995-01-15      NaN\n",
       "1995-01-16      NaN\n",
       "1995-01-17      NaN\n",
       "1995-01-18      NaN\n",
       "1995-01-19      NaN\n",
       "1995-01-20      NaN\n",
       "Freq: D, Name: Passengers, dtype: float64"
      ]
     },
     "execution_count": 18,
     "metadata": {},
     "output_type": "execute_result"
    }
   ],
   "source": [
    "upsampled = Airlines.resample('D').mean()\n",
    "upsampled.head(20)"
   ]
  },
  {
   "cell_type": "code",
   "execution_count": 19,
   "id": "dfc3d6c5",
   "metadata": {},
   "outputs": [
    {
     "data": {
      "text/plain": [
       "(2892,)"
      ]
     },
     "execution_count": 19,
     "metadata": {},
     "output_type": "execute_result"
    }
   ],
   "source": [
    "upsampled.shape"
   ]
  },
  {
   "cell_type": "markdown",
   "id": "b814e861",
   "metadata": {},
   "source": [
    "##### interpolate the missing value"
   ]
  },
  {
   "cell_type": "code",
   "execution_count": 20,
   "id": "d83f7138",
   "metadata": {},
   "outputs": [
    {
     "data": {
      "text/plain": [
       "Month\n",
       "1995-01-01    112.000000\n",
       "1995-01-02    112.193548\n",
       "1995-01-03    112.387097\n",
       "1995-01-04    112.580645\n",
       "1995-01-05    112.774194\n",
       "1995-01-06    112.967742\n",
       "1995-01-07    113.161290\n",
       "1995-01-08    113.354839\n",
       "1995-01-09    113.548387\n",
       "1995-01-10    113.741935\n",
       "1995-01-11    113.935484\n",
       "1995-01-12    114.129032\n",
       "1995-01-13    114.322581\n",
       "1995-01-14    114.516129\n",
       "1995-01-15    114.709677\n",
       "1995-01-16    114.903226\n",
       "1995-01-17    115.096774\n",
       "1995-01-18    115.290323\n",
       "1995-01-19    115.483871\n",
       "1995-01-20    115.677419\n",
       "Freq: D, Name: Passengers, dtype: float64"
      ]
     },
     "execution_count": 20,
     "metadata": {},
     "output_type": "execute_result"
    }
   ],
   "source": [
    "interpolated = upsampled.interpolate(method='linear')\n",
    "interpolated.head(20)"
   ]
  },
  {
   "cell_type": "code",
   "execution_count": 21,
   "id": "da32d8dc",
   "metadata": {},
   "outputs": [
    {
     "data": {
      "text/plain": [
       "<AxesSubplot:xlabel='Month'>"
      ]
     },
     "execution_count": 21,
     "metadata": {},
     "output_type": "execute_result"
    },
    {
     "data": {
      "image/png": "[encoded data removed]",
      "text/plain": [
       "<Figure size 432x288 with 1 Axes>"
      ]
     },
     "metadata": {
      "needs_background": "light"
     },
     "output_type": "display_data"
    }
   ],
   "source": [
    "interpolated.plot()"
   ]
  },
  {
   "cell_type": "code",
   "execution_count": 22,
   "id": "9e2561b6",
   "metadata": {},
   "outputs": [
    {
     "data": {
      "text/plain": [
       "<AxesSubplot:xlabel='Month'>"
      ]
     },
     "execution_count": 22,
     "metadata": {},
     "output_type": "execute_result"
    },
    {
     "data": {
      "image/png": "[encoded data removed]",
      "text/plain": [
       "<Figure size 432x288 with 1 Axes>"
      ]
     },
     "metadata": {
      "needs_background": "light"
     },
     "output_type": "display_data"
    }
   ],
   "source": [
    "Airlines.plot()"
   ]
  },
  {
   "cell_type": "markdown",
   "id": "a1ee6b03",
   "metadata": {},
   "source": [
    "#### Downsampling Data"
   ]
  },
  {
   "cell_type": "code",
   "execution_count": 23,
   "id": "04d3971a",
   "metadata": {},
   "outputs": [],
   "source": [
    "# downsample to quarterly intervals\n",
    "resample = Airlines.resample('Q')\n",
    "quarterly_mean_sales = resample.mean()"
   ]
  },
  {
   "cell_type": "code",
   "execution_count": 24,
   "id": "51d6a9e2",
   "metadata": {},
   "outputs": [
    {
     "data": {
      "text/plain": [
       "<AxesSubplot:xlabel='Month'>"
      ]
     },
     "execution_count": 24,
     "metadata": {},
     "output_type": "execute_result"
    },
    {
     "data": {
      "image/png": "[encoded data removed]",
      "text/plain": [
       "<Figure size 432x288 with 1 Axes>"
      ]
     },
     "metadata": {
      "needs_background": "light"
     },
     "output_type": "display_data"
    }
   ],
   "source": [
    "quarterly_mean_sales.plot()"
   ]
  },
  {
   "cell_type": "markdown",
   "id": "a0751f75",
   "metadata": {},
   "source": [
    "## Tranformations"
   ]
  },
  {
   "cell_type": "code",
   "execution_count": 25,
   "id": "2f2f085f",
   "metadata": {},
   "outputs": [
    {
     "data": {
      "text/html": [
       "<div>\n",
       "<style scoped>\n",
       "    .dataframe tbody tr th:only-of-type {\n",
       "        vertical-align: middle;\n",
       "    }\n",
       "\n",
       "    .dataframe tbody tr th {\n",
       "        vertical-align: top;\n",
       "    }\n",
       "\n",
       "    .dataframe thead th {\n",
       "        text-align: right;\n",
       "    }\n",
       "</style>\n",
       "<table border=\"1\" class=\"dataframe\">\n",
       "  <thead>\n",
       "    <tr style=\"text-align: right;\">\n",
       "      <th></th>\n",
       "      <th>Passengers</th>\n",
       "    </tr>\n",
       "    <tr>\n",
       "      <th>Month</th>\n",
       "      <th></th>\n",
       "    </tr>\n",
       "  </thead>\n",
       "  <tbody>\n",
       "    <tr>\n",
       "      <th>1995-01-01</th>\n",
       "      <td>112</td>\n",
       "    </tr>\n",
       "    <tr>\n",
       "      <th>1995-02-01</th>\n",
       "      <td>118</td>\n",
       "    </tr>\n",
       "    <tr>\n",
       "      <th>1995-03-01</th>\n",
       "      <td>132</td>\n",
       "    </tr>\n",
       "    <tr>\n",
       "      <th>1995-04-01</th>\n",
       "      <td>129</td>\n",
       "    </tr>\n",
       "    <tr>\n",
       "      <th>1995-05-01</th>\n",
       "      <td>121</td>\n",
       "    </tr>\n",
       "    <tr>\n",
       "      <th>...</th>\n",
       "      <td>...</td>\n",
       "    </tr>\n",
       "    <tr>\n",
       "      <th>2002-08-01</th>\n",
       "      <td>405</td>\n",
       "    </tr>\n",
       "    <tr>\n",
       "      <th>2002-09-01</th>\n",
       "      <td>355</td>\n",
       "    </tr>\n",
       "    <tr>\n",
       "      <th>2002-10-01</th>\n",
       "      <td>306</td>\n",
       "    </tr>\n",
       "    <tr>\n",
       "      <th>2002-11-01</th>\n",
       "      <td>271</td>\n",
       "    </tr>\n",
       "    <tr>\n",
       "      <th>2002-12-01</th>\n",
       "      <td>306</td>\n",
       "    </tr>\n",
       "  </tbody>\n",
       "</table>\n",
       "<p>96 rows × 1 columns</p>\n",
       "</div>"
      ],
      "text/plain": [
       "            Passengers\n",
       "Month                 \n",
       "1995-01-01         112\n",
       "1995-02-01         118\n",
       "1995-03-01         132\n",
       "1995-04-01         129\n",
       "1995-05-01         121\n",
       "...                ...\n",
       "2002-08-01         405\n",
       "2002-09-01         355\n",
       "2002-10-01         306\n",
       "2002-11-01         271\n",
       "2002-12-01         306\n",
       "\n",
       "[96 rows x 1 columns]"
      ]
     },
     "execution_count": 25,
     "metadata": {},
     "output_type": "execute_result"
    }
   ],
   "source": [
    "# load and plot a time series\n",
    "Airlines=pd.read_excel(\"C:/Users/icon/Downloads/Airlines+Data.xlsx\",index_col=0,header=0, parse_dates=True)\n",
    "Airlines"
   ]
  },
  {
   "cell_type": "code",
   "execution_count": 26,
   "id": "6772b501",
   "metadata": {},
   "outputs": [
    {
     "data": {
      "image/png": "[encoded data removed]",
      "text/plain": [
       "<Figure size 432x288 with 2 Axes>"
      ]
     },
     "metadata": {
      "needs_background": "light"
     },
     "output_type": "display_data"
    }
   ],
   "source": [
    "# line plot\n",
    "plt.subplot(211)\n",
    "plt.plot(Airlines)\n",
    "\n",
    "# histogram\n",
    "plt.subplot(212)\n",
    "plt.hist(Airlines)\n",
    "\n",
    "plt.show()"
   ]
  },
  {
   "cell_type": "markdown",
   "id": "cf1e218d",
   "metadata": {},
   "source": [
    "#### Square Root Transform"
   ]
  },
  {
   "cell_type": "code",
   "execution_count": 27,
   "id": "5d03ddf9",
   "metadata": {},
   "outputs": [
    {
     "data": {
      "text/html": [
       "<div>\n",
       "<style scoped>\n",
       "    .dataframe tbody tr th:only-of-type {\n",
       "        vertical-align: middle;\n",
       "    }\n",
       "\n",
       "    .dataframe tbody tr th {\n",
       "        vertical-align: top;\n",
       "    }\n",
       "\n",
       "    .dataframe thead th {\n",
       "        text-align: right;\n",
       "    }\n",
       "</style>\n",
       "<table border=\"1\" class=\"dataframe\">\n",
       "  <thead>\n",
       "    <tr style=\"text-align: right;\">\n",
       "      <th></th>\n",
       "      <th>Passengers</th>\n",
       "    </tr>\n",
       "  </thead>\n",
       "  <tbody>\n",
       "    <tr>\n",
       "      <th>0</th>\n",
       "      <td>10.583005</td>\n",
       "    </tr>\n",
       "    <tr>\n",
       "      <th>1</th>\n",
       "      <td>10.862780</td>\n",
       "    </tr>\n",
       "    <tr>\n",
       "      <th>2</th>\n",
       "      <td>11.489125</td>\n",
       "    </tr>\n",
       "    <tr>\n",
       "      <th>3</th>\n",
       "      <td>11.357817</td>\n",
       "    </tr>\n",
       "    <tr>\n",
       "      <th>4</th>\n",
       "      <td>11.000000</td>\n",
       "    </tr>\n",
       "    <tr>\n",
       "      <th>...</th>\n",
       "      <td>...</td>\n",
       "    </tr>\n",
       "    <tr>\n",
       "      <th>91</th>\n",
       "      <td>20.124612</td>\n",
       "    </tr>\n",
       "    <tr>\n",
       "      <th>92</th>\n",
       "      <td>18.841444</td>\n",
       "    </tr>\n",
       "    <tr>\n",
       "      <th>93</th>\n",
       "      <td>17.492856</td>\n",
       "    </tr>\n",
       "    <tr>\n",
       "      <th>94</th>\n",
       "      <td>16.462078</td>\n",
       "    </tr>\n",
       "    <tr>\n",
       "      <th>95</th>\n",
       "      <td>17.492856</td>\n",
       "    </tr>\n",
       "  </tbody>\n",
       "</table>\n",
       "<p>96 rows × 1 columns</p>\n",
       "</div>"
      ],
      "text/plain": [
       "    Passengers\n",
       "0    10.583005\n",
       "1    10.862780\n",
       "2    11.489125\n",
       "3    11.357817\n",
       "4    11.000000\n",
       "..         ...\n",
       "91   20.124612\n",
       "92   18.841444\n",
       "93   17.492856\n",
       "94   16.462078\n",
       "95   17.492856\n",
       "\n",
       "[96 rows x 1 columns]"
      ]
     },
     "execution_count": 27,
     "metadata": {},
     "output_type": "execute_result"
    }
   ],
   "source": [
    "dataframe = pd.DataFrame(np.sqrt(Airlines.values), columns = ['Passengers'])\n",
    "dataframe"
   ]
  },
  {
   "cell_type": "code",
   "execution_count": 28,
   "id": "69a29ece",
   "metadata": {},
   "outputs": [
    {
     "data": {
      "image/png": "[encoded data removed]",
      "text/plain": [
       "<Figure size 432x288 with 2 Axes>"
      ]
     },
     "metadata": {
      "needs_background": "light"
     },
     "output_type": "display_data"
    }
   ],
   "source": [
    "# line plot\n",
    "plt.subplot(211)\n",
    "plt.plot(dataframe['Passengers'])\n",
    "\n",
    "# histogram\n",
    "plt.subplot(212)\n",
    "plt.hist(dataframe['Passengers'])\n",
    "plt.show()"
   ]
  },
  {
   "cell_type": "markdown",
   "id": "7b3fc6f0",
   "metadata": {},
   "source": [
    "#### Log Transform"
   ]
  },
  {
   "cell_type": "code",
   "execution_count": 29,
   "id": "2cb3bb44",
   "metadata": {},
   "outputs": [
    {
     "data": {
      "text/html": [
       "<div>\n",
       "<style scoped>\n",
       "    .dataframe tbody tr th:only-of-type {\n",
       "        vertical-align: middle;\n",
       "    }\n",
       "\n",
       "    .dataframe tbody tr th {\n",
       "        vertical-align: top;\n",
       "    }\n",
       "\n",
       "    .dataframe thead th {\n",
       "        text-align: right;\n",
       "    }\n",
       "</style>\n",
       "<table border=\"1\" class=\"dataframe\">\n",
       "  <thead>\n",
       "    <tr style=\"text-align: right;\">\n",
       "      <th></th>\n",
       "      <th>Passengers</th>\n",
       "    </tr>\n",
       "  </thead>\n",
       "  <tbody>\n",
       "    <tr>\n",
       "      <th>0</th>\n",
       "      <td>4.718499</td>\n",
       "    </tr>\n",
       "    <tr>\n",
       "      <th>1</th>\n",
       "      <td>4.770685</td>\n",
       "    </tr>\n",
       "    <tr>\n",
       "      <th>2</th>\n",
       "      <td>4.882802</td>\n",
       "    </tr>\n",
       "    <tr>\n",
       "      <th>3</th>\n",
       "      <td>4.859812</td>\n",
       "    </tr>\n",
       "    <tr>\n",
       "      <th>4</th>\n",
       "      <td>4.795791</td>\n",
       "    </tr>\n",
       "    <tr>\n",
       "      <th>...</th>\n",
       "      <td>...</td>\n",
       "    </tr>\n",
       "    <tr>\n",
       "      <th>91</th>\n",
       "      <td>6.003887</td>\n",
       "    </tr>\n",
       "    <tr>\n",
       "      <th>92</th>\n",
       "      <td>5.872118</td>\n",
       "    </tr>\n",
       "    <tr>\n",
       "      <th>93</th>\n",
       "      <td>5.723585</td>\n",
       "    </tr>\n",
       "    <tr>\n",
       "      <th>94</th>\n",
       "      <td>5.602119</td>\n",
       "    </tr>\n",
       "    <tr>\n",
       "      <th>95</th>\n",
       "      <td>5.723585</td>\n",
       "    </tr>\n",
       "  </tbody>\n",
       "</table>\n",
       "<p>96 rows × 1 columns</p>\n",
       "</div>"
      ],
      "text/plain": [
       "    Passengers\n",
       "0     4.718499\n",
       "1     4.770685\n",
       "2     4.882802\n",
       "3     4.859812\n",
       "4     4.795791\n",
       "..         ...\n",
       "91    6.003887\n",
       "92    5.872118\n",
       "93    5.723585\n",
       "94    5.602119\n",
       "95    5.723585\n",
       "\n",
       "[96 rows x 1 columns]"
      ]
     },
     "execution_count": 29,
     "metadata": {},
     "output_type": "execute_result"
    }
   ],
   "source": [
    "dataframe = pd.DataFrame(np.log(Airlines.values), columns = ['Passengers'])\n",
    "dataframe"
   ]
  },
  {
   "cell_type": "code",
   "execution_count": 30,
   "id": "446b8c8c",
   "metadata": {},
   "outputs": [
    {
     "data": {
      "image/png": "[encoded data removed]",
      "text/plain": [
       "<Figure size 432x288 with 2 Axes>"
      ]
     },
     "metadata": {
      "needs_background": "light"
     },
     "output_type": "display_data"
    }
   ],
   "source": [
    "# line plot\n",
    "plt.subplot(211)\n",
    "plt.plot(dataframe['Passengers'])\n",
    "\n",
    "# histogram\n",
    "plt.subplot(212)\n",
    "plt.hist(dataframe['Passengers'])\n",
    "plt.show()"
   ]
  },
  {
   "cell_type": "code",
   "execution_count": 31,
   "id": "0fe6fa0e",
   "metadata": {},
   "outputs": [
    {
     "data": {
      "text/plain": [
       "Month\n",
       "1995-03-31    120.666667\n",
       "1995-06-30    128.333333\n",
       "1995-09-30    144.000000\n",
       "1995-12-31    113.666667\n",
       "1996-03-31    127.333333\n",
       "Freq: Q-DEC, Name: Passengers, dtype: float64"
      ]
     },
     "execution_count": 31,
     "metadata": {},
     "output_type": "execute_result"
    }
   ],
   "source": [
    "quarterly_mean_sales.head()"
   ]
  },
  {
   "cell_type": "markdown",
   "id": "1913cffd",
   "metadata": {},
   "source": [
    "# Forecasting - Model Based Methods "
   ]
  },
  {
   "cell_type": "code",
   "execution_count": 32,
   "id": "5273124b",
   "metadata": {},
   "outputs": [
    {
     "data": {
      "text/html": [
       "<div>\n",
       "<style scoped>\n",
       "    .dataframe tbody tr th:only-of-type {\n",
       "        vertical-align: middle;\n",
       "    }\n",
       "\n",
       "    .dataframe tbody tr th {\n",
       "        vertical-align: top;\n",
       "    }\n",
       "\n",
       "    .dataframe thead th {\n",
       "        text-align: right;\n",
       "    }\n",
       "</style>\n",
       "<table border=\"1\" class=\"dataframe\">\n",
       "  <thead>\n",
       "    <tr style=\"text-align: right;\">\n",
       "      <th></th>\n",
       "      <th>Month</th>\n",
       "      <th>Passengers</th>\n",
       "    </tr>\n",
       "  </thead>\n",
       "  <tbody>\n",
       "    <tr>\n",
       "      <th>0</th>\n",
       "      <td>1995-01-01</td>\n",
       "      <td>112</td>\n",
       "    </tr>\n",
       "    <tr>\n",
       "      <th>1</th>\n",
       "      <td>1995-02-01</td>\n",
       "      <td>118</td>\n",
       "    </tr>\n",
       "    <tr>\n",
       "      <th>2</th>\n",
       "      <td>1995-03-01</td>\n",
       "      <td>132</td>\n",
       "    </tr>\n",
       "    <tr>\n",
       "      <th>3</th>\n",
       "      <td>1995-04-01</td>\n",
       "      <td>129</td>\n",
       "    </tr>\n",
       "    <tr>\n",
       "      <th>4</th>\n",
       "      <td>1995-05-01</td>\n",
       "      <td>121</td>\n",
       "    </tr>\n",
       "    <tr>\n",
       "      <th>...</th>\n",
       "      <td>...</td>\n",
       "      <td>...</td>\n",
       "    </tr>\n",
       "    <tr>\n",
       "      <th>91</th>\n",
       "      <td>2002-08-01</td>\n",
       "      <td>405</td>\n",
       "    </tr>\n",
       "    <tr>\n",
       "      <th>92</th>\n",
       "      <td>2002-09-01</td>\n",
       "      <td>355</td>\n",
       "    </tr>\n",
       "    <tr>\n",
       "      <th>93</th>\n",
       "      <td>2002-10-01</td>\n",
       "      <td>306</td>\n",
       "    </tr>\n",
       "    <tr>\n",
       "      <th>94</th>\n",
       "      <td>2002-11-01</td>\n",
       "      <td>271</td>\n",
       "    </tr>\n",
       "    <tr>\n",
       "      <th>95</th>\n",
       "      <td>2002-12-01</td>\n",
       "      <td>306</td>\n",
       "    </tr>\n",
       "  </tbody>\n",
       "</table>\n",
       "<p>96 rows × 2 columns</p>\n",
       "</div>"
      ],
      "text/plain": [
       "        Month  Passengers\n",
       "0  1995-01-01         112\n",
       "1  1995-02-01         118\n",
       "2  1995-03-01         132\n",
       "3  1995-04-01         129\n",
       "4  1995-05-01         121\n",
       "..        ...         ...\n",
       "91 2002-08-01         405\n",
       "92 2002-09-01         355\n",
       "93 2002-10-01         306\n",
       "94 2002-11-01         271\n",
       "95 2002-12-01         306\n",
       "\n",
       "[96 rows x 2 columns]"
      ]
     },
     "execution_count": 32,
     "metadata": {},
     "output_type": "execute_result"
    }
   ],
   "source": [
    "Airlines=pd.read_excel(\"C:/Users/icon/Downloads/Airlines+Data.xlsx\")\n",
    "Airlines"
   ]
  },
  {
   "cell_type": "code",
   "execution_count": 33,
   "id": "a4d66d10",
   "metadata": {},
   "outputs": [
    {
     "data": {
      "text/plain": [
       "<AxesSubplot:>"
      ]
     },
     "execution_count": 33,
     "metadata": {},
     "output_type": "execute_result"
    },
    {
     "data": {
      "image/png": "[encoded data removed]",
      "text/plain": [
       "<Figure size 432x288 with 1 Axes>"
      ]
     },
     "metadata": {
      "needs_background": "light"
     },
     "output_type": "display_data"
    }
   ],
   "source": [
    "Airlines['Passengers'].plot()"
   ]
  },
  {
   "cell_type": "code",
   "execution_count": 34,
   "id": "132a6e01",
   "metadata": {},
   "outputs": [],
   "source": [
    "# Extracting Day, weekday name, month name, year from the Date column using \n",
    "# Date functions from pandas \n",
    "\n",
    "Airlines[\"month\"] = Airlines['Month'].dt.strftime(\"%b\") # month extraction\n",
    "Airlines[\"year\"] = Airlines['Month'].dt.strftime(\"%Y\") # year extraction\n",
    "#Airlines[\"Day\"] = Walmart.Date.dt.strftime(\"%d\") # Day extraction\n",
    "#Airlines[\"wkday\"] = Walmart.Date.dt.strftime(\"%A\") # weekday extraction"
   ]
  },
  {
   "cell_type": "code",
   "execution_count": 35,
   "id": "a676671f",
   "metadata": {},
   "outputs": [
    {
     "data": {
      "text/html": [
       "<div>\n",
       "<style scoped>\n",
       "    .dataframe tbody tr th:only-of-type {\n",
       "        vertical-align: middle;\n",
       "    }\n",
       "\n",
       "    .dataframe tbody tr th {\n",
       "        vertical-align: top;\n",
       "    }\n",
       "\n",
       "    .dataframe thead th {\n",
       "        text-align: right;\n",
       "    }\n",
       "</style>\n",
       "<table border=\"1\" class=\"dataframe\">\n",
       "  <thead>\n",
       "    <tr style=\"text-align: right;\">\n",
       "      <th></th>\n",
       "      <th>Month</th>\n",
       "      <th>Passengers</th>\n",
       "      <th>month</th>\n",
       "      <th>year</th>\n",
       "    </tr>\n",
       "  </thead>\n",
       "  <tbody>\n",
       "    <tr>\n",
       "      <th>0</th>\n",
       "      <td>1995-01-01</td>\n",
       "      <td>112</td>\n",
       "      <td>Jan</td>\n",
       "      <td>1995</td>\n",
       "    </tr>\n",
       "    <tr>\n",
       "      <th>1</th>\n",
       "      <td>1995-02-01</td>\n",
       "      <td>118</td>\n",
       "      <td>Feb</td>\n",
       "      <td>1995</td>\n",
       "    </tr>\n",
       "    <tr>\n",
       "      <th>2</th>\n",
       "      <td>1995-03-01</td>\n",
       "      <td>132</td>\n",
       "      <td>Mar</td>\n",
       "      <td>1995</td>\n",
       "    </tr>\n",
       "    <tr>\n",
       "      <th>3</th>\n",
       "      <td>1995-04-01</td>\n",
       "      <td>129</td>\n",
       "      <td>Apr</td>\n",
       "      <td>1995</td>\n",
       "    </tr>\n",
       "    <tr>\n",
       "      <th>4</th>\n",
       "      <td>1995-05-01</td>\n",
       "      <td>121</td>\n",
       "      <td>May</td>\n",
       "      <td>1995</td>\n",
       "    </tr>\n",
       "    <tr>\n",
       "      <th>...</th>\n",
       "      <td>...</td>\n",
       "      <td>...</td>\n",
       "      <td>...</td>\n",
       "      <td>...</td>\n",
       "    </tr>\n",
       "    <tr>\n",
       "      <th>91</th>\n",
       "      <td>2002-08-01</td>\n",
       "      <td>405</td>\n",
       "      <td>Aug</td>\n",
       "      <td>2002</td>\n",
       "    </tr>\n",
       "    <tr>\n",
       "      <th>92</th>\n",
       "      <td>2002-09-01</td>\n",
       "      <td>355</td>\n",
       "      <td>Sep</td>\n",
       "      <td>2002</td>\n",
       "    </tr>\n",
       "    <tr>\n",
       "      <th>93</th>\n",
       "      <td>2002-10-01</td>\n",
       "      <td>306</td>\n",
       "      <td>Oct</td>\n",
       "      <td>2002</td>\n",
       "    </tr>\n",
       "    <tr>\n",
       "      <th>94</th>\n",
       "      <td>2002-11-01</td>\n",
       "      <td>271</td>\n",
       "      <td>Nov</td>\n",
       "      <td>2002</td>\n",
       "    </tr>\n",
       "    <tr>\n",
       "      <th>95</th>\n",
       "      <td>2002-12-01</td>\n",
       "      <td>306</td>\n",
       "      <td>Dec</td>\n",
       "      <td>2002</td>\n",
       "    </tr>\n",
       "  </tbody>\n",
       "</table>\n",
       "<p>96 rows × 4 columns</p>\n",
       "</div>"
      ],
      "text/plain": [
       "        Month  Passengers month  year\n",
       "0  1995-01-01         112   Jan  1995\n",
       "1  1995-02-01         118   Feb  1995\n",
       "2  1995-03-01         132   Mar  1995\n",
       "3  1995-04-01         129   Apr  1995\n",
       "4  1995-05-01         121   May  1995\n",
       "..        ...         ...   ...   ...\n",
       "91 2002-08-01         405   Aug  2002\n",
       "92 2002-09-01         355   Sep  2002\n",
       "93 2002-10-01         306   Oct  2002\n",
       "94 2002-11-01         271   Nov  2002\n",
       "95 2002-12-01         306   Dec  2002\n",
       "\n",
       "[96 rows x 4 columns]"
      ]
     },
     "execution_count": 35,
     "metadata": {},
     "output_type": "execute_result"
    }
   ],
   "source": [
    "Airlines"
   ]
  },
  {
   "cell_type": "code",
   "execution_count": 36,
   "id": "325a83fe",
   "metadata": {},
   "outputs": [
    {
     "data": {
      "text/html": [
       "<div>\n",
       "<style scoped>\n",
       "    .dataframe tbody tr th:only-of-type {\n",
       "        vertical-align: middle;\n",
       "    }\n",
       "\n",
       "    .dataframe tbody tr th {\n",
       "        vertical-align: top;\n",
       "    }\n",
       "\n",
       "    .dataframe thead th {\n",
       "        text-align: right;\n",
       "    }\n",
       "</style>\n",
       "<table border=\"1\" class=\"dataframe\">\n",
       "  <thead>\n",
       "    <tr style=\"text-align: right;\">\n",
       "      <th>month</th>\n",
       "      <th>Apr</th>\n",
       "      <th>Aug</th>\n",
       "      <th>Dec</th>\n",
       "      <th>Feb</th>\n",
       "      <th>Jan</th>\n",
       "      <th>Jul</th>\n",
       "      <th>Jun</th>\n",
       "      <th>Mar</th>\n",
       "      <th>May</th>\n",
       "      <th>Nov</th>\n",
       "      <th>Oct</th>\n",
       "      <th>Sep</th>\n",
       "    </tr>\n",
       "    <tr>\n",
       "      <th>year</th>\n",
       "      <th></th>\n",
       "      <th></th>\n",
       "      <th></th>\n",
       "      <th></th>\n",
       "      <th></th>\n",
       "      <th></th>\n",
       "      <th></th>\n",
       "      <th></th>\n",
       "      <th></th>\n",
       "      <th></th>\n",
       "      <th></th>\n",
       "      <th></th>\n",
       "    </tr>\n",
       "  </thead>\n",
       "  <tbody>\n",
       "    <tr>\n",
       "      <th>1995</th>\n",
       "      <td>129</td>\n",
       "      <td>148</td>\n",
       "      <td>118</td>\n",
       "      <td>118</td>\n",
       "      <td>112</td>\n",
       "      <td>148</td>\n",
       "      <td>135</td>\n",
       "      <td>132</td>\n",
       "      <td>121</td>\n",
       "      <td>104</td>\n",
       "      <td>119</td>\n",
       "      <td>136</td>\n",
       "    </tr>\n",
       "    <tr>\n",
       "      <th>1996</th>\n",
       "      <td>135</td>\n",
       "      <td>170</td>\n",
       "      <td>140</td>\n",
       "      <td>126</td>\n",
       "      <td>115</td>\n",
       "      <td>170</td>\n",
       "      <td>149</td>\n",
       "      <td>141</td>\n",
       "      <td>125</td>\n",
       "      <td>114</td>\n",
       "      <td>133</td>\n",
       "      <td>158</td>\n",
       "    </tr>\n",
       "    <tr>\n",
       "      <th>1997</th>\n",
       "      <td>163</td>\n",
       "      <td>199</td>\n",
       "      <td>166</td>\n",
       "      <td>150</td>\n",
       "      <td>145</td>\n",
       "      <td>199</td>\n",
       "      <td>178</td>\n",
       "      <td>178</td>\n",
       "      <td>172</td>\n",
       "      <td>146</td>\n",
       "      <td>162</td>\n",
       "      <td>184</td>\n",
       "    </tr>\n",
       "    <tr>\n",
       "      <th>1998</th>\n",
       "      <td>181</td>\n",
       "      <td>242</td>\n",
       "      <td>194</td>\n",
       "      <td>180</td>\n",
       "      <td>171</td>\n",
       "      <td>230</td>\n",
       "      <td>218</td>\n",
       "      <td>193</td>\n",
       "      <td>183</td>\n",
       "      <td>172</td>\n",
       "      <td>191</td>\n",
       "      <td>209</td>\n",
       "    </tr>\n",
       "    <tr>\n",
       "      <th>1999</th>\n",
       "      <td>235</td>\n",
       "      <td>272</td>\n",
       "      <td>201</td>\n",
       "      <td>196</td>\n",
       "      <td>196</td>\n",
       "      <td>264</td>\n",
       "      <td>243</td>\n",
       "      <td>236</td>\n",
       "      <td>229</td>\n",
       "      <td>180</td>\n",
       "      <td>211</td>\n",
       "      <td>237</td>\n",
       "    </tr>\n",
       "    <tr>\n",
       "      <th>2000</th>\n",
       "      <td>227</td>\n",
       "      <td>293</td>\n",
       "      <td>229</td>\n",
       "      <td>188</td>\n",
       "      <td>204</td>\n",
       "      <td>302</td>\n",
       "      <td>264</td>\n",
       "      <td>235</td>\n",
       "      <td>234</td>\n",
       "      <td>203</td>\n",
       "      <td>229</td>\n",
       "      <td>259</td>\n",
       "    </tr>\n",
       "    <tr>\n",
       "      <th>2001</th>\n",
       "      <td>269</td>\n",
       "      <td>347</td>\n",
       "      <td>278</td>\n",
       "      <td>233</td>\n",
       "      <td>242</td>\n",
       "      <td>364</td>\n",
       "      <td>315</td>\n",
       "      <td>267</td>\n",
       "      <td>270</td>\n",
       "      <td>237</td>\n",
       "      <td>274</td>\n",
       "      <td>312</td>\n",
       "    </tr>\n",
       "    <tr>\n",
       "      <th>2002</th>\n",
       "      <td>313</td>\n",
       "      <td>405</td>\n",
       "      <td>306</td>\n",
       "      <td>277</td>\n",
       "      <td>284</td>\n",
       "      <td>413</td>\n",
       "      <td>374</td>\n",
       "      <td>317</td>\n",
       "      <td>318</td>\n",
       "      <td>271</td>\n",
       "      <td>306</td>\n",
       "      <td>355</td>\n",
       "    </tr>\n",
       "  </tbody>\n",
       "</table>\n",
       "</div>"
      ],
      "text/plain": [
       "month  Apr  Aug  Dec  Feb  Jan  Jul  Jun  Mar  May  Nov  Oct  Sep\n",
       "year                                                             \n",
       "1995   129  148  118  118  112  148  135  132  121  104  119  136\n",
       "1996   135  170  140  126  115  170  149  141  125  114  133  158\n",
       "1997   163  199  166  150  145  199  178  178  172  146  162  184\n",
       "1998   181  242  194  180  171  230  218  193  183  172  191  209\n",
       "1999   235  272  201  196  196  264  243  236  229  180  211  237\n",
       "2000   227  293  229  188  204  302  264  235  234  203  229  259\n",
       "2001   269  347  278  233  242  364  315  267  270  237  274  312\n",
       "2002   313  405  306  277  284  413  374  317  318  271  306  355"
      ]
     },
     "execution_count": 36,
     "metadata": {},
     "output_type": "execute_result"
    }
   ],
   "source": [
    "heatmap_y_month = pd.pivot_table(data = Airlines,\n",
    "                                 values = \"Passengers\",\n",
    "                                 index = \"year\",\n",
    "                                 columns = \"month\",\n",
    "                                 aggfunc = \"mean\",\n",
    "                                 fill_value=0)\n",
    "heatmap_y_month"
   ]
  },
  {
   "cell_type": "code",
   "execution_count": 37,
   "id": "fe8c0753",
   "metadata": {},
   "outputs": [
    {
     "data": {
      "text/plain": [
       "<AxesSubplot:xlabel='month', ylabel='year'>"
      ]
     },
     "execution_count": 37,
     "metadata": {},
     "output_type": "execute_result"
    },
    {
     "data": {
      "image/png": "[encoded data removed]",
      "text/plain": [
       "<Figure size 864x576 with 2 Axes>"
      ]
     },
     "metadata": {
      "needs_background": "light"
     },
     "output_type": "display_data"
    }
   ],
   "source": [
    "plt.figure(figsize=(12,8))\n",
    "sns.heatmap(heatmap_y_month,\n",
    "            annot=True,\n",
    "            fmt=\"g\",\n",
    "            cmap = 'YlGnBu') #fmt is format of the grid values"
   ]
  },
  {
   "cell_type": "code",
   "execution_count": 38,
   "id": "444aff3c",
   "metadata": {},
   "outputs": [
    {
     "data": {
      "text/plain": [
       "<AxesSubplot:xlabel='year', ylabel='Passengers'>"
      ]
     },
     "execution_count": 38,
     "metadata": {},
     "output_type": "execute_result"
    },
    {
     "data": {
      "image/png": "[encoded data removed]",
      "text/plain": [
       "<Figure size 1080x720 with 2 Axes>"
      ]
     },
     "metadata": {
      "needs_background": "light"
     },
     "output_type": "display_data"
    }
   ],
   "source": [
    "# Boxplot for ever\n",
    "plt.figure(figsize=(15,10))\n",
    "\n",
    "plt.subplot(211)\n",
    "sns.boxplot(x=\"month\",y=\"Passengers\",data=Airlines)\n",
    "\n",
    "plt.subplot(212)\n",
    "sns.boxplot(x=\"year\",y=\"Passengers\",data=Airlines)"
   ]
  },
  {
   "cell_type": "code",
   "execution_count": 39,
   "id": "105baf07",
   "metadata": {},
   "outputs": [
    {
     "data": {
      "text/plain": [
       "<AxesSubplot:xlabel='year', ylabel='Passengers'>"
      ]
     },
     "execution_count": 39,
     "metadata": {},
     "output_type": "execute_result"
    },
    {
     "data": {
      "image/png": "[encoded data removed]",
      "text/plain": [
       "<Figure size 864x216 with 1 Axes>"
      ]
     },
     "metadata": {
      "needs_background": "light"
     },
     "output_type": "display_data"
    }
   ],
   "source": [
    "plt.figure(figsize=(12,3))\n",
    "sns.lineplot(x=\"year\",y=\"Passengers\",data=Airlines)"
   ]
  },
  {
   "cell_type": "markdown",
   "id": "26a0921c",
   "metadata": {},
   "source": [
    "## Splitting data"
   ]
  },
  {
   "cell_type": "code",
   "execution_count": 40,
   "id": "f73700db",
   "metadata": {},
   "outputs": [
    {
     "data": {
      "text/html": [
       "<div>\n",
       "<style scoped>\n",
       "    .dataframe tbody tr th:only-of-type {\n",
       "        vertical-align: middle;\n",
       "    }\n",
       "\n",
       "    .dataframe tbody tr th {\n",
       "        vertical-align: top;\n",
       "    }\n",
       "\n",
       "    .dataframe thead th {\n",
       "        text-align: right;\n",
       "    }\n",
       "</style>\n",
       "<table border=\"1\" class=\"dataframe\">\n",
       "  <thead>\n",
       "    <tr style=\"text-align: right;\">\n",
       "      <th></th>\n",
       "      <th>Month</th>\n",
       "      <th>Passengers</th>\n",
       "      <th>month</th>\n",
       "      <th>year</th>\n",
       "    </tr>\n",
       "  </thead>\n",
       "  <tbody>\n",
       "    <tr>\n",
       "      <th>0</th>\n",
       "      <td>1995-01-01</td>\n",
       "      <td>112</td>\n",
       "      <td>Jan</td>\n",
       "      <td>1995</td>\n",
       "    </tr>\n",
       "    <tr>\n",
       "      <th>1</th>\n",
       "      <td>1995-02-01</td>\n",
       "      <td>118</td>\n",
       "      <td>Feb</td>\n",
       "      <td>1995</td>\n",
       "    </tr>\n",
       "    <tr>\n",
       "      <th>2</th>\n",
       "      <td>1995-03-01</td>\n",
       "      <td>132</td>\n",
       "      <td>Mar</td>\n",
       "      <td>1995</td>\n",
       "    </tr>\n",
       "    <tr>\n",
       "      <th>3</th>\n",
       "      <td>1995-04-01</td>\n",
       "      <td>129</td>\n",
       "      <td>Apr</td>\n",
       "      <td>1995</td>\n",
       "    </tr>\n",
       "    <tr>\n",
       "      <th>4</th>\n",
       "      <td>1995-05-01</td>\n",
       "      <td>121</td>\n",
       "      <td>May</td>\n",
       "      <td>1995</td>\n",
       "    </tr>\n",
       "    <tr>\n",
       "      <th>...</th>\n",
       "      <td>...</td>\n",
       "      <td>...</td>\n",
       "      <td>...</td>\n",
       "      <td>...</td>\n",
       "    </tr>\n",
       "    <tr>\n",
       "      <th>91</th>\n",
       "      <td>2002-08-01</td>\n",
       "      <td>405</td>\n",
       "      <td>Aug</td>\n",
       "      <td>2002</td>\n",
       "    </tr>\n",
       "    <tr>\n",
       "      <th>92</th>\n",
       "      <td>2002-09-01</td>\n",
       "      <td>355</td>\n",
       "      <td>Sep</td>\n",
       "      <td>2002</td>\n",
       "    </tr>\n",
       "    <tr>\n",
       "      <th>93</th>\n",
       "      <td>2002-10-01</td>\n",
       "      <td>306</td>\n",
       "      <td>Oct</td>\n",
       "      <td>2002</td>\n",
       "    </tr>\n",
       "    <tr>\n",
       "      <th>94</th>\n",
       "      <td>2002-11-01</td>\n",
       "      <td>271</td>\n",
       "      <td>Nov</td>\n",
       "      <td>2002</td>\n",
       "    </tr>\n",
       "    <tr>\n",
       "      <th>95</th>\n",
       "      <td>2002-12-01</td>\n",
       "      <td>306</td>\n",
       "      <td>Dec</td>\n",
       "      <td>2002</td>\n",
       "    </tr>\n",
       "  </tbody>\n",
       "</table>\n",
       "<p>96 rows × 4 columns</p>\n",
       "</div>"
      ],
      "text/plain": [
       "        Month  Passengers month  year\n",
       "0  1995-01-01         112   Jan  1995\n",
       "1  1995-02-01         118   Feb  1995\n",
       "2  1995-03-01         132   Mar  1995\n",
       "3  1995-04-01         129   Apr  1995\n",
       "4  1995-05-01         121   May  1995\n",
       "..        ...         ...   ...   ...\n",
       "91 2002-08-01         405   Aug  2002\n",
       "92 2002-09-01         355   Sep  2002\n",
       "93 2002-10-01         306   Oct  2002\n",
       "94 2002-11-01         271   Nov  2002\n",
       "95 2002-12-01         306   Dec  2002\n",
       "\n",
       "[96 rows x 4 columns]"
      ]
     },
     "execution_count": 40,
     "metadata": {},
     "output_type": "execute_result"
    }
   ],
   "source": [
    "Airlines"
   ]
  },
  {
   "cell_type": "code",
   "execution_count": 41,
   "id": "f29766fe",
   "metadata": {},
   "outputs": [
    {
     "data": {
      "text/plain": [
       "(96, 4)"
      ]
     },
     "execution_count": 41,
     "metadata": {},
     "output_type": "execute_result"
    }
   ],
   "source": [
    "Airlines.shape"
   ]
  },
  {
   "cell_type": "code",
   "execution_count": 42,
   "id": "e9c0f77a",
   "metadata": {},
   "outputs": [],
   "source": [
    "# Complete the dataset\n",
    "Airlines['t']=np.arange(1,97)\n",
    "Airlines['t_square']=np.square(Airlines.t)\n",
    "Airlines['log_Passengers']=np.log(Airlines.Passengers)\n",
    "Airlines2=pd.get_dummies(Airlines['month'])"
   ]
  },
  {
   "cell_type": "code",
   "execution_count": 43,
   "id": "a9ec80cf",
   "metadata": {},
   "outputs": [
    {
     "data": {
      "text/html": [
       "<div>\n",
       "<style scoped>\n",
       "    .dataframe tbody tr th:only-of-type {\n",
       "        vertical-align: middle;\n",
       "    }\n",
       "\n",
       "    .dataframe tbody tr th {\n",
       "        vertical-align: top;\n",
       "    }\n",
       "\n",
       "    .dataframe thead th {\n",
       "        text-align: right;\n",
       "    }\n",
       "</style>\n",
       "<table border=\"1\" class=\"dataframe\">\n",
       "  <thead>\n",
       "    <tr style=\"text-align: right;\">\n",
       "      <th></th>\n",
       "      <th>Month</th>\n",
       "      <th>Passengers</th>\n",
       "      <th>month</th>\n",
       "      <th>year</th>\n",
       "      <th>t</th>\n",
       "      <th>t_square</th>\n",
       "      <th>log_Passengers</th>\n",
       "    </tr>\n",
       "  </thead>\n",
       "  <tbody>\n",
       "    <tr>\n",
       "      <th>0</th>\n",
       "      <td>1995-01-01</td>\n",
       "      <td>112</td>\n",
       "      <td>Jan</td>\n",
       "      <td>1995</td>\n",
       "      <td>1</td>\n",
       "      <td>1</td>\n",
       "      <td>4.718499</td>\n",
       "    </tr>\n",
       "    <tr>\n",
       "      <th>1</th>\n",
       "      <td>1995-02-01</td>\n",
       "      <td>118</td>\n",
       "      <td>Feb</td>\n",
       "      <td>1995</td>\n",
       "      <td>2</td>\n",
       "      <td>4</td>\n",
       "      <td>4.770685</td>\n",
       "    </tr>\n",
       "    <tr>\n",
       "      <th>2</th>\n",
       "      <td>1995-03-01</td>\n",
       "      <td>132</td>\n",
       "      <td>Mar</td>\n",
       "      <td>1995</td>\n",
       "      <td>3</td>\n",
       "      <td>9</td>\n",
       "      <td>4.882802</td>\n",
       "    </tr>\n",
       "    <tr>\n",
       "      <th>3</th>\n",
       "      <td>1995-04-01</td>\n",
       "      <td>129</td>\n",
       "      <td>Apr</td>\n",
       "      <td>1995</td>\n",
       "      <td>4</td>\n",
       "      <td>16</td>\n",
       "      <td>4.859812</td>\n",
       "    </tr>\n",
       "    <tr>\n",
       "      <th>4</th>\n",
       "      <td>1995-05-01</td>\n",
       "      <td>121</td>\n",
       "      <td>May</td>\n",
       "      <td>1995</td>\n",
       "      <td>5</td>\n",
       "      <td>25</td>\n",
       "      <td>4.795791</td>\n",
       "    </tr>\n",
       "    <tr>\n",
       "      <th>...</th>\n",
       "      <td>...</td>\n",
       "      <td>...</td>\n",
       "      <td>...</td>\n",
       "      <td>...</td>\n",
       "      <td>...</td>\n",
       "      <td>...</td>\n",
       "      <td>...</td>\n",
       "    </tr>\n",
       "    <tr>\n",
       "      <th>91</th>\n",
       "      <td>2002-08-01</td>\n",
       "      <td>405</td>\n",
       "      <td>Aug</td>\n",
       "      <td>2002</td>\n",
       "      <td>92</td>\n",
       "      <td>8464</td>\n",
       "      <td>6.003887</td>\n",
       "    </tr>\n",
       "    <tr>\n",
       "      <th>92</th>\n",
       "      <td>2002-09-01</td>\n",
       "      <td>355</td>\n",
       "      <td>Sep</td>\n",
       "      <td>2002</td>\n",
       "      <td>93</td>\n",
       "      <td>8649</td>\n",
       "      <td>5.872118</td>\n",
       "    </tr>\n",
       "    <tr>\n",
       "      <th>93</th>\n",
       "      <td>2002-10-01</td>\n",
       "      <td>306</td>\n",
       "      <td>Oct</td>\n",
       "      <td>2002</td>\n",
       "      <td>94</td>\n",
       "      <td>8836</td>\n",
       "      <td>5.723585</td>\n",
       "    </tr>\n",
       "    <tr>\n",
       "      <th>94</th>\n",
       "      <td>2002-11-01</td>\n",
       "      <td>271</td>\n",
       "      <td>Nov</td>\n",
       "      <td>2002</td>\n",
       "      <td>95</td>\n",
       "      <td>9025</td>\n",
       "      <td>5.602119</td>\n",
       "    </tr>\n",
       "    <tr>\n",
       "      <th>95</th>\n",
       "      <td>2002-12-01</td>\n",
       "      <td>306</td>\n",
       "      <td>Dec</td>\n",
       "      <td>2002</td>\n",
       "      <td>96</td>\n",
       "      <td>9216</td>\n",
       "      <td>5.723585</td>\n",
       "    </tr>\n",
       "  </tbody>\n",
       "</table>\n",
       "<p>96 rows × 7 columns</p>\n",
       "</div>"
      ],
      "text/plain": [
       "        Month  Passengers month  year   t  t_square  log_Passengers\n",
       "0  1995-01-01         112   Jan  1995   1         1        4.718499\n",
       "1  1995-02-01         118   Feb  1995   2         4        4.770685\n",
       "2  1995-03-01         132   Mar  1995   3         9        4.882802\n",
       "3  1995-04-01         129   Apr  1995   4        16        4.859812\n",
       "4  1995-05-01         121   May  1995   5        25        4.795791\n",
       "..        ...         ...   ...   ...  ..       ...             ...\n",
       "91 2002-08-01         405   Aug  2002  92      8464        6.003887\n",
       "92 2002-09-01         355   Sep  2002  93      8649        5.872118\n",
       "93 2002-10-01         306   Oct  2002  94      8836        5.723585\n",
       "94 2002-11-01         271   Nov  2002  95      9025        5.602119\n",
       "95 2002-12-01         306   Dec  2002  96      9216        5.723585\n",
       "\n",
       "[96 rows x 7 columns]"
      ]
     },
     "execution_count": 43,
     "metadata": {},
     "output_type": "execute_result"
    }
   ],
   "source": [
    "Airlines"
   ]
  },
  {
   "cell_type": "code",
   "execution_count": 44,
   "id": "8d134206",
   "metadata": {},
   "outputs": [
    {
     "data": {
      "text/html": [
       "<div>\n",
       "<style scoped>\n",
       "    .dataframe tbody tr th:only-of-type {\n",
       "        vertical-align: middle;\n",
       "    }\n",
       "\n",
       "    .dataframe tbody tr th {\n",
       "        vertical-align: top;\n",
       "    }\n",
       "\n",
       "    .dataframe thead th {\n",
       "        text-align: right;\n",
       "    }\n",
       "</style>\n",
       "<table border=\"1\" class=\"dataframe\">\n",
       "  <thead>\n",
       "    <tr style=\"text-align: right;\">\n",
       "      <th></th>\n",
       "      <th>Apr</th>\n",
       "      <th>Aug</th>\n",
       "      <th>Dec</th>\n",
       "      <th>Feb</th>\n",
       "      <th>Jan</th>\n",
       "      <th>Jul</th>\n",
       "      <th>Jun</th>\n",
       "      <th>Mar</th>\n",
       "      <th>May</th>\n",
       "      <th>Nov</th>\n",
       "      <th>Oct</th>\n",
       "      <th>Sep</th>\n",
       "    </tr>\n",
       "  </thead>\n",
       "  <tbody>\n",
       "    <tr>\n",
       "      <th>0</th>\n",
       "      <td>0</td>\n",
       "      <td>0</td>\n",
       "      <td>0</td>\n",
       "      <td>0</td>\n",
       "      <td>1</td>\n",
       "      <td>0</td>\n",
       "      <td>0</td>\n",
       "      <td>0</td>\n",
       "      <td>0</td>\n",
       "      <td>0</td>\n",
       "      <td>0</td>\n",
       "      <td>0</td>\n",
       "    </tr>\n",
       "    <tr>\n",
       "      <th>1</th>\n",
       "      <td>0</td>\n",
       "      <td>0</td>\n",
       "      <td>0</td>\n",
       "      <td>1</td>\n",
       "      <td>0</td>\n",
       "      <td>0</td>\n",
       "      <td>0</td>\n",
       "      <td>0</td>\n",
       "      <td>0</td>\n",
       "      <td>0</td>\n",
       "      <td>0</td>\n",
       "      <td>0</td>\n",
       "    </tr>\n",
       "    <tr>\n",
       "      <th>2</th>\n",
       "      <td>0</td>\n",
       "      <td>0</td>\n",
       "      <td>0</td>\n",
       "      <td>0</td>\n",
       "      <td>0</td>\n",
       "      <td>0</td>\n",
       "      <td>0</td>\n",
       "      <td>1</td>\n",
       "      <td>0</td>\n",
       "      <td>0</td>\n",
       "      <td>0</td>\n",
       "      <td>0</td>\n",
       "    </tr>\n",
       "    <tr>\n",
       "      <th>3</th>\n",
       "      <td>1</td>\n",
       "      <td>0</td>\n",
       "      <td>0</td>\n",
       "      <td>0</td>\n",
       "      <td>0</td>\n",
       "      <td>0</td>\n",
       "      <td>0</td>\n",
       "      <td>0</td>\n",
       "      <td>0</td>\n",
       "      <td>0</td>\n",
       "      <td>0</td>\n",
       "      <td>0</td>\n",
       "    </tr>\n",
       "    <tr>\n",
       "      <th>4</th>\n",
       "      <td>0</td>\n",
       "      <td>0</td>\n",
       "      <td>0</td>\n",
       "      <td>0</td>\n",
       "      <td>0</td>\n",
       "      <td>0</td>\n",
       "      <td>0</td>\n",
       "      <td>0</td>\n",
       "      <td>1</td>\n",
       "      <td>0</td>\n",
       "      <td>0</td>\n",
       "      <td>0</td>\n",
       "    </tr>\n",
       "    <tr>\n",
       "      <th>...</th>\n",
       "      <td>...</td>\n",
       "      <td>...</td>\n",
       "      <td>...</td>\n",
       "      <td>...</td>\n",
       "      <td>...</td>\n",
       "      <td>...</td>\n",
       "      <td>...</td>\n",
       "      <td>...</td>\n",
       "      <td>...</td>\n",
       "      <td>...</td>\n",
       "      <td>...</td>\n",
       "      <td>...</td>\n",
       "    </tr>\n",
       "    <tr>\n",
       "      <th>91</th>\n",
       "      <td>0</td>\n",
       "      <td>1</td>\n",
       "      <td>0</td>\n",
       "      <td>0</td>\n",
       "      <td>0</td>\n",
       "      <td>0</td>\n",
       "      <td>0</td>\n",
       "      <td>0</td>\n",
       "      <td>0</td>\n",
       "      <td>0</td>\n",
       "      <td>0</td>\n",
       "      <td>0</td>\n",
       "    </tr>\n",
       "    <tr>\n",
       "      <th>92</th>\n",
       "      <td>0</td>\n",
       "      <td>0</td>\n",
       "      <td>0</td>\n",
       "      <td>0</td>\n",
       "      <td>0</td>\n",
       "      <td>0</td>\n",
       "      <td>0</td>\n",
       "      <td>0</td>\n",
       "      <td>0</td>\n",
       "      <td>0</td>\n",
       "      <td>0</td>\n",
       "      <td>1</td>\n",
       "    </tr>\n",
       "    <tr>\n",
       "      <th>93</th>\n",
       "      <td>0</td>\n",
       "      <td>0</td>\n",
       "      <td>0</td>\n",
       "      <td>0</td>\n",
       "      <td>0</td>\n",
       "      <td>0</td>\n",
       "      <td>0</td>\n",
       "      <td>0</td>\n",
       "      <td>0</td>\n",
       "      <td>0</td>\n",
       "      <td>1</td>\n",
       "      <td>0</td>\n",
       "    </tr>\n",
       "    <tr>\n",
       "      <th>94</th>\n",
       "      <td>0</td>\n",
       "      <td>0</td>\n",
       "      <td>0</td>\n",
       "      <td>0</td>\n",
       "      <td>0</td>\n",
       "      <td>0</td>\n",
       "      <td>0</td>\n",
       "      <td>0</td>\n",
       "      <td>0</td>\n",
       "      <td>1</td>\n",
       "      <td>0</td>\n",
       "      <td>0</td>\n",
       "    </tr>\n",
       "    <tr>\n",
       "      <th>95</th>\n",
       "      <td>0</td>\n",
       "      <td>0</td>\n",
       "      <td>1</td>\n",
       "      <td>0</td>\n",
       "      <td>0</td>\n",
       "      <td>0</td>\n",
       "      <td>0</td>\n",
       "      <td>0</td>\n",
       "      <td>0</td>\n",
       "      <td>0</td>\n",
       "      <td>0</td>\n",
       "      <td>0</td>\n",
       "    </tr>\n",
       "  </tbody>\n",
       "</table>\n",
       "<p>96 rows × 12 columns</p>\n",
       "</div>"
      ],
      "text/plain": [
       "    Apr  Aug  Dec  Feb  Jan  Jul  Jun  Mar  May  Nov  Oct  Sep\n",
       "0     0    0    0    0    1    0    0    0    0    0    0    0\n",
       "1     0    0    0    1    0    0    0    0    0    0    0    0\n",
       "2     0    0    0    0    0    0    0    1    0    0    0    0\n",
       "3     1    0    0    0    0    0    0    0    0    0    0    0\n",
       "4     0    0    0    0    0    0    0    0    1    0    0    0\n",
       "..  ...  ...  ...  ...  ...  ...  ...  ...  ...  ...  ...  ...\n",
       "91    0    1    0    0    0    0    0    0    0    0    0    0\n",
       "92    0    0    0    0    0    0    0    0    0    0    0    1\n",
       "93    0    0    0    0    0    0    0    0    0    0    1    0\n",
       "94    0    0    0    0    0    0    0    0    0    1    0    0\n",
       "95    0    0    1    0    0    0    0    0    0    0    0    0\n",
       "\n",
       "[96 rows x 12 columns]"
      ]
     },
     "execution_count": 44,
     "metadata": {},
     "output_type": "execute_result"
    }
   ],
   "source": [
    "Airlines2"
   ]
  },
  {
   "cell_type": "code",
   "execution_count": 45,
   "id": "48b1403f",
   "metadata": {},
   "outputs": [
    {
     "data": {
      "text/html": [
       "<div>\n",
       "<style scoped>\n",
       "    .dataframe tbody tr th:only-of-type {\n",
       "        vertical-align: middle;\n",
       "    }\n",
       "\n",
       "    .dataframe tbody tr th {\n",
       "        vertical-align: top;\n",
       "    }\n",
       "\n",
       "    .dataframe thead th {\n",
       "        text-align: right;\n",
       "    }\n",
       "</style>\n",
       "<table border=\"1\" class=\"dataframe\">\n",
       "  <thead>\n",
       "    <tr style=\"text-align: right;\">\n",
       "      <th></th>\n",
       "      <th>Month</th>\n",
       "      <th>Passengers</th>\n",
       "      <th>month</th>\n",
       "      <th>year</th>\n",
       "      <th>t</th>\n",
       "      <th>t_square</th>\n",
       "      <th>log_Passengers</th>\n",
       "      <th>Apr</th>\n",
       "      <th>Aug</th>\n",
       "      <th>Dec</th>\n",
       "      <th>Feb</th>\n",
       "      <th>Jan</th>\n",
       "      <th>Jul</th>\n",
       "      <th>Jun</th>\n",
       "      <th>Mar</th>\n",
       "      <th>May</th>\n",
       "      <th>Nov</th>\n",
       "      <th>Oct</th>\n",
       "      <th>Sep</th>\n",
       "    </tr>\n",
       "  </thead>\n",
       "  <tbody>\n",
       "    <tr>\n",
       "      <th>0</th>\n",
       "      <td>1995-01-01</td>\n",
       "      <td>112</td>\n",
       "      <td>Jan</td>\n",
       "      <td>1995</td>\n",
       "      <td>1</td>\n",
       "      <td>1</td>\n",
       "      <td>4.718499</td>\n",
       "      <td>0</td>\n",
       "      <td>0</td>\n",
       "      <td>0</td>\n",
       "      <td>0</td>\n",
       "      <td>1</td>\n",
       "      <td>0</td>\n",
       "      <td>0</td>\n",
       "      <td>0</td>\n",
       "      <td>0</td>\n",
       "      <td>0</td>\n",
       "      <td>0</td>\n",
       "      <td>0</td>\n",
       "    </tr>\n",
       "    <tr>\n",
       "      <th>1</th>\n",
       "      <td>1995-02-01</td>\n",
       "      <td>118</td>\n",
       "      <td>Feb</td>\n",
       "      <td>1995</td>\n",
       "      <td>2</td>\n",
       "      <td>4</td>\n",
       "      <td>4.770685</td>\n",
       "      <td>0</td>\n",
       "      <td>0</td>\n",
       "      <td>0</td>\n",
       "      <td>1</td>\n",
       "      <td>0</td>\n",
       "      <td>0</td>\n",
       "      <td>0</td>\n",
       "      <td>0</td>\n",
       "      <td>0</td>\n",
       "      <td>0</td>\n",
       "      <td>0</td>\n",
       "      <td>0</td>\n",
       "    </tr>\n",
       "    <tr>\n",
       "      <th>2</th>\n",
       "      <td>1995-03-01</td>\n",
       "      <td>132</td>\n",
       "      <td>Mar</td>\n",
       "      <td>1995</td>\n",
       "      <td>3</td>\n",
       "      <td>9</td>\n",
       "      <td>4.882802</td>\n",
       "      <td>0</td>\n",
       "      <td>0</td>\n",
       "      <td>0</td>\n",
       "      <td>0</td>\n",
       "      <td>0</td>\n",
       "      <td>0</td>\n",
       "      <td>0</td>\n",
       "      <td>1</td>\n",
       "      <td>0</td>\n",
       "      <td>0</td>\n",
       "      <td>0</td>\n",
       "      <td>0</td>\n",
       "    </tr>\n",
       "    <tr>\n",
       "      <th>3</th>\n",
       "      <td>1995-04-01</td>\n",
       "      <td>129</td>\n",
       "      <td>Apr</td>\n",
       "      <td>1995</td>\n",
       "      <td>4</td>\n",
       "      <td>16</td>\n",
       "      <td>4.859812</td>\n",
       "      <td>1</td>\n",
       "      <td>0</td>\n",
       "      <td>0</td>\n",
       "      <td>0</td>\n",
       "      <td>0</td>\n",
       "      <td>0</td>\n",
       "      <td>0</td>\n",
       "      <td>0</td>\n",
       "      <td>0</td>\n",
       "      <td>0</td>\n",
       "      <td>0</td>\n",
       "      <td>0</td>\n",
       "    </tr>\n",
       "    <tr>\n",
       "      <th>4</th>\n",
       "      <td>1995-05-01</td>\n",
       "      <td>121</td>\n",
       "      <td>May</td>\n",
       "      <td>1995</td>\n",
       "      <td>5</td>\n",
       "      <td>25</td>\n",
       "      <td>4.795791</td>\n",
       "      <td>0</td>\n",
       "      <td>0</td>\n",
       "      <td>0</td>\n",
       "      <td>0</td>\n",
       "      <td>0</td>\n",
       "      <td>0</td>\n",
       "      <td>0</td>\n",
       "      <td>0</td>\n",
       "      <td>1</td>\n",
       "      <td>0</td>\n",
       "      <td>0</td>\n",
       "      <td>0</td>\n",
       "    </tr>\n",
       "    <tr>\n",
       "      <th>...</th>\n",
       "      <td>...</td>\n",
       "      <td>...</td>\n",
       "      <td>...</td>\n",
       "      <td>...</td>\n",
       "      <td>...</td>\n",
       "      <td>...</td>\n",
       "      <td>...</td>\n",
       "      <td>...</td>\n",
       "      <td>...</td>\n",
       "      <td>...</td>\n",
       "      <td>...</td>\n",
       "      <td>...</td>\n",
       "      <td>...</td>\n",
       "      <td>...</td>\n",
       "      <td>...</td>\n",
       "      <td>...</td>\n",
       "      <td>...</td>\n",
       "      <td>...</td>\n",
       "      <td>...</td>\n",
       "    </tr>\n",
       "    <tr>\n",
       "      <th>91</th>\n",
       "      <td>2002-08-01</td>\n",
       "      <td>405</td>\n",
       "      <td>Aug</td>\n",
       "      <td>2002</td>\n",
       "      <td>92</td>\n",
       "      <td>8464</td>\n",
       "      <td>6.003887</td>\n",
       "      <td>0</td>\n",
       "      <td>1</td>\n",
       "      <td>0</td>\n",
       "      <td>0</td>\n",
       "      <td>0</td>\n",
       "      <td>0</td>\n",
       "      <td>0</td>\n",
       "      <td>0</td>\n",
       "      <td>0</td>\n",
       "      <td>0</td>\n",
       "      <td>0</td>\n",
       "      <td>0</td>\n",
       "    </tr>\n",
       "    <tr>\n",
       "      <th>92</th>\n",
       "      <td>2002-09-01</td>\n",
       "      <td>355</td>\n",
       "      <td>Sep</td>\n",
       "      <td>2002</td>\n",
       "      <td>93</td>\n",
       "      <td>8649</td>\n",
       "      <td>5.872118</td>\n",
       "      <td>0</td>\n",
       "      <td>0</td>\n",
       "      <td>0</td>\n",
       "      <td>0</td>\n",
       "      <td>0</td>\n",
       "      <td>0</td>\n",
       "      <td>0</td>\n",
       "      <td>0</td>\n",
       "      <td>0</td>\n",
       "      <td>0</td>\n",
       "      <td>0</td>\n",
       "      <td>1</td>\n",
       "    </tr>\n",
       "    <tr>\n",
       "      <th>93</th>\n",
       "      <td>2002-10-01</td>\n",
       "      <td>306</td>\n",
       "      <td>Oct</td>\n",
       "      <td>2002</td>\n",
       "      <td>94</td>\n",
       "      <td>8836</td>\n",
       "      <td>5.723585</td>\n",
       "      <td>0</td>\n",
       "      <td>0</td>\n",
       "      <td>0</td>\n",
       "      <td>0</td>\n",
       "      <td>0</td>\n",
       "      <td>0</td>\n",
       "      <td>0</td>\n",
       "      <td>0</td>\n",
       "      <td>0</td>\n",
       "      <td>0</td>\n",
       "      <td>1</td>\n",
       "      <td>0</td>\n",
       "    </tr>\n",
       "    <tr>\n",
       "      <th>94</th>\n",
       "      <td>2002-11-01</td>\n",
       "      <td>271</td>\n",
       "      <td>Nov</td>\n",
       "      <td>2002</td>\n",
       "      <td>95</td>\n",
       "      <td>9025</td>\n",
       "      <td>5.602119</td>\n",
       "      <td>0</td>\n",
       "      <td>0</td>\n",
       "      <td>0</td>\n",
       "      <td>0</td>\n",
       "      <td>0</td>\n",
       "      <td>0</td>\n",
       "      <td>0</td>\n",
       "      <td>0</td>\n",
       "      <td>0</td>\n",
       "      <td>1</td>\n",
       "      <td>0</td>\n",
       "      <td>0</td>\n",
       "    </tr>\n",
       "    <tr>\n",
       "      <th>95</th>\n",
       "      <td>2002-12-01</td>\n",
       "      <td>306</td>\n",
       "      <td>Dec</td>\n",
       "      <td>2002</td>\n",
       "      <td>96</td>\n",
       "      <td>9216</td>\n",
       "      <td>5.723585</td>\n",
       "      <td>0</td>\n",
       "      <td>0</td>\n",
       "      <td>1</td>\n",
       "      <td>0</td>\n",
       "      <td>0</td>\n",
       "      <td>0</td>\n",
       "      <td>0</td>\n",
       "      <td>0</td>\n",
       "      <td>0</td>\n",
       "      <td>0</td>\n",
       "      <td>0</td>\n",
       "      <td>0</td>\n",
       "    </tr>\n",
       "  </tbody>\n",
       "</table>\n",
       "<p>96 rows × 19 columns</p>\n",
       "</div>"
      ],
      "text/plain": [
       "        Month  Passengers month  year   t  t_square  log_Passengers  Apr  Aug  \\\n",
       "0  1995-01-01         112   Jan  1995   1         1        4.718499    0    0   \n",
       "1  1995-02-01         118   Feb  1995   2         4        4.770685    0    0   \n",
       "2  1995-03-01         132   Mar  1995   3         9        4.882802    0    0   \n",
       "3  1995-04-01         129   Apr  1995   4        16        4.859812    1    0   \n",
       "4  1995-05-01         121   May  1995   5        25        4.795791    0    0   \n",
       "..        ...         ...   ...   ...  ..       ...             ...  ...  ...   \n",
       "91 2002-08-01         405   Aug  2002  92      8464        6.003887    0    1   \n",
       "92 2002-09-01         355   Sep  2002  93      8649        5.872118    0    0   \n",
       "93 2002-10-01         306   Oct  2002  94      8836        5.723585    0    0   \n",
       "94 2002-11-01         271   Nov  2002  95      9025        5.602119    0    0   \n",
       "95 2002-12-01         306   Dec  2002  96      9216        5.723585    0    0   \n",
       "\n",
       "    Dec  Feb  Jan  Jul  Jun  Mar  May  Nov  Oct  Sep  \n",
       "0     0    0    1    0    0    0    0    0    0    0  \n",
       "1     0    1    0    0    0    0    0    0    0    0  \n",
       "2     0    0    0    0    0    1    0    0    0    0  \n",
       "3     0    0    0    0    0    0    0    0    0    0  \n",
       "4     0    0    0    0    0    0    1    0    0    0  \n",
       "..  ...  ...  ...  ...  ...  ...  ...  ...  ...  ...  \n",
       "91    0    0    0    0    0    0    0    0    0    0  \n",
       "92    0    0    0    0    0    0    0    0    0    1  \n",
       "93    0    0    0    0    0    0    0    0    1    0  \n",
       "94    0    0    0    0    0    0    0    1    0    0  \n",
       "95    1    0    0    0    0    0    0    0    0    0  \n",
       "\n",
       "[96 rows x 19 columns]"
      ]
     },
     "execution_count": 45,
     "metadata": {},
     "output_type": "execute_result"
    }
   ],
   "source": [
    "Airlines=pd.concat([Airlines,Airlines2],axis=1)\n",
    "Airlines"
   ]
  },
  {
   "cell_type": "code",
   "execution_count": 46,
   "id": "45d1b9a8",
   "metadata": {},
   "outputs": [],
   "source": [
    "# For self understanding of forecasting values data split into multiples of 12\n",
    "Train = Airlines.head(84)\n",
    "Test = Airlines.tail(12)"
   ]
  },
  {
   "cell_type": "code",
   "execution_count": 47,
   "id": "ae1f6125",
   "metadata": {},
   "outputs": [
    {
     "data": {
      "text/html": [
       "<div>\n",
       "<style scoped>\n",
       "    .dataframe tbody tr th:only-of-type {\n",
       "        vertical-align: middle;\n",
       "    }\n",
       "\n",
       "    .dataframe tbody tr th {\n",
       "        vertical-align: top;\n",
       "    }\n",
       "\n",
       "    .dataframe thead th {\n",
       "        text-align: right;\n",
       "    }\n",
       "</style>\n",
       "<table border=\"1\" class=\"dataframe\">\n",
       "  <thead>\n",
       "    <tr style=\"text-align: right;\">\n",
       "      <th></th>\n",
       "      <th>Month</th>\n",
       "      <th>Passengers</th>\n",
       "      <th>month</th>\n",
       "      <th>year</th>\n",
       "      <th>t</th>\n",
       "      <th>t_square</th>\n",
       "      <th>log_Passengers</th>\n",
       "      <th>Apr</th>\n",
       "      <th>Aug</th>\n",
       "      <th>Dec</th>\n",
       "      <th>Feb</th>\n",
       "      <th>Jan</th>\n",
       "      <th>Jul</th>\n",
       "      <th>Jun</th>\n",
       "      <th>Mar</th>\n",
       "      <th>May</th>\n",
       "      <th>Nov</th>\n",
       "      <th>Oct</th>\n",
       "      <th>Sep</th>\n",
       "    </tr>\n",
       "  </thead>\n",
       "  <tbody>\n",
       "    <tr>\n",
       "      <th>0</th>\n",
       "      <td>1995-01-01</td>\n",
       "      <td>112</td>\n",
       "      <td>Jan</td>\n",
       "      <td>1995</td>\n",
       "      <td>1</td>\n",
       "      <td>1</td>\n",
       "      <td>4.718499</td>\n",
       "      <td>0</td>\n",
       "      <td>0</td>\n",
       "      <td>0</td>\n",
       "      <td>0</td>\n",
       "      <td>1</td>\n",
       "      <td>0</td>\n",
       "      <td>0</td>\n",
       "      <td>0</td>\n",
       "      <td>0</td>\n",
       "      <td>0</td>\n",
       "      <td>0</td>\n",
       "      <td>0</td>\n",
       "    </tr>\n",
       "    <tr>\n",
       "      <th>1</th>\n",
       "      <td>1995-02-01</td>\n",
       "      <td>118</td>\n",
       "      <td>Feb</td>\n",
       "      <td>1995</td>\n",
       "      <td>2</td>\n",
       "      <td>4</td>\n",
       "      <td>4.770685</td>\n",
       "      <td>0</td>\n",
       "      <td>0</td>\n",
       "      <td>0</td>\n",
       "      <td>1</td>\n",
       "      <td>0</td>\n",
       "      <td>0</td>\n",
       "      <td>0</td>\n",
       "      <td>0</td>\n",
       "      <td>0</td>\n",
       "      <td>0</td>\n",
       "      <td>0</td>\n",
       "      <td>0</td>\n",
       "    </tr>\n",
       "    <tr>\n",
       "      <th>2</th>\n",
       "      <td>1995-03-01</td>\n",
       "      <td>132</td>\n",
       "      <td>Mar</td>\n",
       "      <td>1995</td>\n",
       "      <td>3</td>\n",
       "      <td>9</td>\n",
       "      <td>4.882802</td>\n",
       "      <td>0</td>\n",
       "      <td>0</td>\n",
       "      <td>0</td>\n",
       "      <td>0</td>\n",
       "      <td>0</td>\n",
       "      <td>0</td>\n",
       "      <td>0</td>\n",
       "      <td>1</td>\n",
       "      <td>0</td>\n",
       "      <td>0</td>\n",
       "      <td>0</td>\n",
       "      <td>0</td>\n",
       "    </tr>\n",
       "    <tr>\n",
       "      <th>3</th>\n",
       "      <td>1995-04-01</td>\n",
       "      <td>129</td>\n",
       "      <td>Apr</td>\n",
       "      <td>1995</td>\n",
       "      <td>4</td>\n",
       "      <td>16</td>\n",
       "      <td>4.859812</td>\n",
       "      <td>1</td>\n",
       "      <td>0</td>\n",
       "      <td>0</td>\n",
       "      <td>0</td>\n",
       "      <td>0</td>\n",
       "      <td>0</td>\n",
       "      <td>0</td>\n",
       "      <td>0</td>\n",
       "      <td>0</td>\n",
       "      <td>0</td>\n",
       "      <td>0</td>\n",
       "      <td>0</td>\n",
       "    </tr>\n",
       "    <tr>\n",
       "      <th>4</th>\n",
       "      <td>1995-05-01</td>\n",
       "      <td>121</td>\n",
       "      <td>May</td>\n",
       "      <td>1995</td>\n",
       "      <td>5</td>\n",
       "      <td>25</td>\n",
       "      <td>4.795791</td>\n",
       "      <td>0</td>\n",
       "      <td>0</td>\n",
       "      <td>0</td>\n",
       "      <td>0</td>\n",
       "      <td>0</td>\n",
       "      <td>0</td>\n",
       "      <td>0</td>\n",
       "      <td>0</td>\n",
       "      <td>1</td>\n",
       "      <td>0</td>\n",
       "      <td>0</td>\n",
       "      <td>0</td>\n",
       "    </tr>\n",
       "    <tr>\n",
       "      <th>...</th>\n",
       "      <td>...</td>\n",
       "      <td>...</td>\n",
       "      <td>...</td>\n",
       "      <td>...</td>\n",
       "      <td>...</td>\n",
       "      <td>...</td>\n",
       "      <td>...</td>\n",
       "      <td>...</td>\n",
       "      <td>...</td>\n",
       "      <td>...</td>\n",
       "      <td>...</td>\n",
       "      <td>...</td>\n",
       "      <td>...</td>\n",
       "      <td>...</td>\n",
       "      <td>...</td>\n",
       "      <td>...</td>\n",
       "      <td>...</td>\n",
       "      <td>...</td>\n",
       "      <td>...</td>\n",
       "    </tr>\n",
       "    <tr>\n",
       "      <th>79</th>\n",
       "      <td>2001-08-01</td>\n",
       "      <td>347</td>\n",
       "      <td>Aug</td>\n",
       "      <td>2001</td>\n",
       "      <td>80</td>\n",
       "      <td>6400</td>\n",
       "      <td>5.849325</td>\n",
       "      <td>0</td>\n",
       "      <td>1</td>\n",
       "      <td>0</td>\n",
       "      <td>0</td>\n",
       "      <td>0</td>\n",
       "      <td>0</td>\n",
       "      <td>0</td>\n",
       "      <td>0</td>\n",
       "      <td>0</td>\n",
       "      <td>0</td>\n",
       "      <td>0</td>\n",
       "      <td>0</td>\n",
       "    </tr>\n",
       "    <tr>\n",
       "      <th>80</th>\n",
       "      <td>2001-09-01</td>\n",
       "      <td>312</td>\n",
       "      <td>Sep</td>\n",
       "      <td>2001</td>\n",
       "      <td>81</td>\n",
       "      <td>6561</td>\n",
       "      <td>5.743003</td>\n",
       "      <td>0</td>\n",
       "      <td>0</td>\n",
       "      <td>0</td>\n",
       "      <td>0</td>\n",
       "      <td>0</td>\n",
       "      <td>0</td>\n",
       "      <td>0</td>\n",
       "      <td>0</td>\n",
       "      <td>0</td>\n",
       "      <td>0</td>\n",
       "      <td>0</td>\n",
       "      <td>1</td>\n",
       "    </tr>\n",
       "    <tr>\n",
       "      <th>81</th>\n",
       "      <td>2001-10-01</td>\n",
       "      <td>274</td>\n",
       "      <td>Oct</td>\n",
       "      <td>2001</td>\n",
       "      <td>82</td>\n",
       "      <td>6724</td>\n",
       "      <td>5.613128</td>\n",
       "      <td>0</td>\n",
       "      <td>0</td>\n",
       "      <td>0</td>\n",
       "      <td>0</td>\n",
       "      <td>0</td>\n",
       "      <td>0</td>\n",
       "      <td>0</td>\n",
       "      <td>0</td>\n",
       "      <td>0</td>\n",
       "      <td>0</td>\n",
       "      <td>1</td>\n",
       "      <td>0</td>\n",
       "    </tr>\n",
       "    <tr>\n",
       "      <th>82</th>\n",
       "      <td>2001-11-01</td>\n",
       "      <td>237</td>\n",
       "      <td>Nov</td>\n",
       "      <td>2001</td>\n",
       "      <td>83</td>\n",
       "      <td>6889</td>\n",
       "      <td>5.468060</td>\n",
       "      <td>0</td>\n",
       "      <td>0</td>\n",
       "      <td>0</td>\n",
       "      <td>0</td>\n",
       "      <td>0</td>\n",
       "      <td>0</td>\n",
       "      <td>0</td>\n",
       "      <td>0</td>\n",
       "      <td>0</td>\n",
       "      <td>1</td>\n",
       "      <td>0</td>\n",
       "      <td>0</td>\n",
       "    </tr>\n",
       "    <tr>\n",
       "      <th>83</th>\n",
       "      <td>2001-12-01</td>\n",
       "      <td>278</td>\n",
       "      <td>Dec</td>\n",
       "      <td>2001</td>\n",
       "      <td>84</td>\n",
       "      <td>7056</td>\n",
       "      <td>5.627621</td>\n",
       "      <td>0</td>\n",
       "      <td>0</td>\n",
       "      <td>1</td>\n",
       "      <td>0</td>\n",
       "      <td>0</td>\n",
       "      <td>0</td>\n",
       "      <td>0</td>\n",
       "      <td>0</td>\n",
       "      <td>0</td>\n",
       "      <td>0</td>\n",
       "      <td>0</td>\n",
       "      <td>0</td>\n",
       "    </tr>\n",
       "  </tbody>\n",
       "</table>\n",
       "<p>84 rows × 19 columns</p>\n",
       "</div>"
      ],
      "text/plain": [
       "        Month  Passengers month  year   t  t_square  log_Passengers  Apr  Aug  \\\n",
       "0  1995-01-01         112   Jan  1995   1         1        4.718499    0    0   \n",
       "1  1995-02-01         118   Feb  1995   2         4        4.770685    0    0   \n",
       "2  1995-03-01         132   Mar  1995   3         9        4.882802    0    0   \n",
       "3  1995-04-01         129   Apr  1995   4        16        4.859812    1    0   \n",
       "4  1995-05-01         121   May  1995   5        25        4.795791    0    0   \n",
       "..        ...         ...   ...   ...  ..       ...             ...  ...  ...   \n",
       "79 2001-08-01         347   Aug  2001  80      6400        5.849325    0    1   \n",
       "80 2001-09-01         312   Sep  2001  81      6561        5.743003    0    0   \n",
       "81 2001-10-01         274   Oct  2001  82      6724        5.613128    0    0   \n",
       "82 2001-11-01         237   Nov  2001  83      6889        5.468060    0    0   \n",
       "83 2001-12-01         278   Dec  2001  84      7056        5.627621    0    0   \n",
       "\n",
       "    Dec  Feb  Jan  Jul  Jun  Mar  May  Nov  Oct  Sep  \n",
       "0     0    0    1    0    0    0    0    0    0    0  \n",
       "1     0    1    0    0    0    0    0    0    0    0  \n",
       "2     0    0    0    0    0    1    0    0    0    0  \n",
       "3     0    0    0    0    0    0    0    0    0    0  \n",
       "4     0    0    0    0    0    0    1    0    0    0  \n",
       "..  ...  ...  ...  ...  ...  ...  ...  ...  ...  ...  \n",
       "79    0    0    0    0    0    0    0    0    0    0  \n",
       "80    0    0    0    0    0    0    0    0    0    1  \n",
       "81    0    0    0    0    0    0    0    0    1    0  \n",
       "82    0    0    0    0    0    0    0    1    0    0  \n",
       "83    1    0    0    0    0    0    0    0    0    0  \n",
       "\n",
       "[84 rows x 19 columns]"
      ]
     },
     "execution_count": 47,
     "metadata": {},
     "output_type": "execute_result"
    }
   ],
   "source": [
    "Train"
   ]
  },
  {
   "cell_type": "code",
   "execution_count": 48,
   "id": "8b932739",
   "metadata": {},
   "outputs": [
    {
     "data": {
      "text/html": [
       "<div>\n",
       "<style scoped>\n",
       "    .dataframe tbody tr th:only-of-type {\n",
       "        vertical-align: middle;\n",
       "    }\n",
       "\n",
       "    .dataframe tbody tr th {\n",
       "        vertical-align: top;\n",
       "    }\n",
       "\n",
       "    .dataframe thead th {\n",
       "        text-align: right;\n",
       "    }\n",
       "</style>\n",
       "<table border=\"1\" class=\"dataframe\">\n",
       "  <thead>\n",
       "    <tr style=\"text-align: right;\">\n",
       "      <th></th>\n",
       "      <th>Month</th>\n",
       "      <th>Passengers</th>\n",
       "      <th>month</th>\n",
       "      <th>year</th>\n",
       "      <th>t</th>\n",
       "      <th>t_square</th>\n",
       "      <th>log_Passengers</th>\n",
       "      <th>Apr</th>\n",
       "      <th>Aug</th>\n",
       "      <th>Dec</th>\n",
       "      <th>Feb</th>\n",
       "      <th>Jan</th>\n",
       "      <th>Jul</th>\n",
       "      <th>Jun</th>\n",
       "      <th>Mar</th>\n",
       "      <th>May</th>\n",
       "      <th>Nov</th>\n",
       "      <th>Oct</th>\n",
       "      <th>Sep</th>\n",
       "    </tr>\n",
       "  </thead>\n",
       "  <tbody>\n",
       "    <tr>\n",
       "      <th>84</th>\n",
       "      <td>2002-01-01</td>\n",
       "      <td>284</td>\n",
       "      <td>Jan</td>\n",
       "      <td>2002</td>\n",
       "      <td>85</td>\n",
       "      <td>7225</td>\n",
       "      <td>5.648974</td>\n",
       "      <td>0</td>\n",
       "      <td>0</td>\n",
       "      <td>0</td>\n",
       "      <td>0</td>\n",
       "      <td>1</td>\n",
       "      <td>0</td>\n",
       "      <td>0</td>\n",
       "      <td>0</td>\n",
       "      <td>0</td>\n",
       "      <td>0</td>\n",
       "      <td>0</td>\n",
       "      <td>0</td>\n",
       "    </tr>\n",
       "    <tr>\n",
       "      <th>85</th>\n",
       "      <td>2002-02-01</td>\n",
       "      <td>277</td>\n",
       "      <td>Feb</td>\n",
       "      <td>2002</td>\n",
       "      <td>86</td>\n",
       "      <td>7396</td>\n",
       "      <td>5.624018</td>\n",
       "      <td>0</td>\n",
       "      <td>0</td>\n",
       "      <td>0</td>\n",
       "      <td>1</td>\n",
       "      <td>0</td>\n",
       "      <td>0</td>\n",
       "      <td>0</td>\n",
       "      <td>0</td>\n",
       "      <td>0</td>\n",
       "      <td>0</td>\n",
       "      <td>0</td>\n",
       "      <td>0</td>\n",
       "    </tr>\n",
       "    <tr>\n",
       "      <th>86</th>\n",
       "      <td>2002-03-01</td>\n",
       "      <td>317</td>\n",
       "      <td>Mar</td>\n",
       "      <td>2002</td>\n",
       "      <td>87</td>\n",
       "      <td>7569</td>\n",
       "      <td>5.758902</td>\n",
       "      <td>0</td>\n",
       "      <td>0</td>\n",
       "      <td>0</td>\n",
       "      <td>0</td>\n",
       "      <td>0</td>\n",
       "      <td>0</td>\n",
       "      <td>0</td>\n",
       "      <td>1</td>\n",
       "      <td>0</td>\n",
       "      <td>0</td>\n",
       "      <td>0</td>\n",
       "      <td>0</td>\n",
       "    </tr>\n",
       "    <tr>\n",
       "      <th>87</th>\n",
       "      <td>2002-04-01</td>\n",
       "      <td>313</td>\n",
       "      <td>Apr</td>\n",
       "      <td>2002</td>\n",
       "      <td>88</td>\n",
       "      <td>7744</td>\n",
       "      <td>5.746203</td>\n",
       "      <td>1</td>\n",
       "      <td>0</td>\n",
       "      <td>0</td>\n",
       "      <td>0</td>\n",
       "      <td>0</td>\n",
       "      <td>0</td>\n",
       "      <td>0</td>\n",
       "      <td>0</td>\n",
       "      <td>0</td>\n",
       "      <td>0</td>\n",
       "      <td>0</td>\n",
       "      <td>0</td>\n",
       "    </tr>\n",
       "    <tr>\n",
       "      <th>88</th>\n",
       "      <td>2002-05-01</td>\n",
       "      <td>318</td>\n",
       "      <td>May</td>\n",
       "      <td>2002</td>\n",
       "      <td>89</td>\n",
       "      <td>7921</td>\n",
       "      <td>5.762051</td>\n",
       "      <td>0</td>\n",
       "      <td>0</td>\n",
       "      <td>0</td>\n",
       "      <td>0</td>\n",
       "      <td>0</td>\n",
       "      <td>0</td>\n",
       "      <td>0</td>\n",
       "      <td>0</td>\n",
       "      <td>1</td>\n",
       "      <td>0</td>\n",
       "      <td>0</td>\n",
       "      <td>0</td>\n",
       "    </tr>\n",
       "    <tr>\n",
       "      <th>89</th>\n",
       "      <td>2002-06-01</td>\n",
       "      <td>374</td>\n",
       "      <td>Jun</td>\n",
       "      <td>2002</td>\n",
       "      <td>90</td>\n",
       "      <td>8100</td>\n",
       "      <td>5.924256</td>\n",
       "      <td>0</td>\n",
       "      <td>0</td>\n",
       "      <td>0</td>\n",
       "      <td>0</td>\n",
       "      <td>0</td>\n",
       "      <td>0</td>\n",
       "      <td>1</td>\n",
       "      <td>0</td>\n",
       "      <td>0</td>\n",
       "      <td>0</td>\n",
       "      <td>0</td>\n",
       "      <td>0</td>\n",
       "    </tr>\n",
       "    <tr>\n",
       "      <th>90</th>\n",
       "      <td>2002-07-01</td>\n",
       "      <td>413</td>\n",
       "      <td>Jul</td>\n",
       "      <td>2002</td>\n",
       "      <td>91</td>\n",
       "      <td>8281</td>\n",
       "      <td>6.023448</td>\n",
       "      <td>0</td>\n",
       "      <td>0</td>\n",
       "      <td>0</td>\n",
       "      <td>0</td>\n",
       "      <td>0</td>\n",
       "      <td>1</td>\n",
       "      <td>0</td>\n",
       "      <td>0</td>\n",
       "      <td>0</td>\n",
       "      <td>0</td>\n",
       "      <td>0</td>\n",
       "      <td>0</td>\n",
       "    </tr>\n",
       "    <tr>\n",
       "      <th>91</th>\n",
       "      <td>2002-08-01</td>\n",
       "      <td>405</td>\n",
       "      <td>Aug</td>\n",
       "      <td>2002</td>\n",
       "      <td>92</td>\n",
       "      <td>8464</td>\n",
       "      <td>6.003887</td>\n",
       "      <td>0</td>\n",
       "      <td>1</td>\n",
       "      <td>0</td>\n",
       "      <td>0</td>\n",
       "      <td>0</td>\n",
       "      <td>0</td>\n",
       "      <td>0</td>\n",
       "      <td>0</td>\n",
       "      <td>0</td>\n",
       "      <td>0</td>\n",
       "      <td>0</td>\n",
       "      <td>0</td>\n",
       "    </tr>\n",
       "    <tr>\n",
       "      <th>92</th>\n",
       "      <td>2002-09-01</td>\n",
       "      <td>355</td>\n",
       "      <td>Sep</td>\n",
       "      <td>2002</td>\n",
       "      <td>93</td>\n",
       "      <td>8649</td>\n",
       "      <td>5.872118</td>\n",
       "      <td>0</td>\n",
       "      <td>0</td>\n",
       "      <td>0</td>\n",
       "      <td>0</td>\n",
       "      <td>0</td>\n",
       "      <td>0</td>\n",
       "      <td>0</td>\n",
       "      <td>0</td>\n",
       "      <td>0</td>\n",
       "      <td>0</td>\n",
       "      <td>0</td>\n",
       "      <td>1</td>\n",
       "    </tr>\n",
       "    <tr>\n",
       "      <th>93</th>\n",
       "      <td>2002-10-01</td>\n",
       "      <td>306</td>\n",
       "      <td>Oct</td>\n",
       "      <td>2002</td>\n",
       "      <td>94</td>\n",
       "      <td>8836</td>\n",
       "      <td>5.723585</td>\n",
       "      <td>0</td>\n",
       "      <td>0</td>\n",
       "      <td>0</td>\n",
       "      <td>0</td>\n",
       "      <td>0</td>\n",
       "      <td>0</td>\n",
       "      <td>0</td>\n",
       "      <td>0</td>\n",
       "      <td>0</td>\n",
       "      <td>0</td>\n",
       "      <td>1</td>\n",
       "      <td>0</td>\n",
       "    </tr>\n",
       "    <tr>\n",
       "      <th>94</th>\n",
       "      <td>2002-11-01</td>\n",
       "      <td>271</td>\n",
       "      <td>Nov</td>\n",
       "      <td>2002</td>\n",
       "      <td>95</td>\n",
       "      <td>9025</td>\n",
       "      <td>5.602119</td>\n",
       "      <td>0</td>\n",
       "      <td>0</td>\n",
       "      <td>0</td>\n",
       "      <td>0</td>\n",
       "      <td>0</td>\n",
       "      <td>0</td>\n",
       "      <td>0</td>\n",
       "      <td>0</td>\n",
       "      <td>0</td>\n",
       "      <td>1</td>\n",
       "      <td>0</td>\n",
       "      <td>0</td>\n",
       "    </tr>\n",
       "    <tr>\n",
       "      <th>95</th>\n",
       "      <td>2002-12-01</td>\n",
       "      <td>306</td>\n",
       "      <td>Dec</td>\n",
       "      <td>2002</td>\n",
       "      <td>96</td>\n",
       "      <td>9216</td>\n",
       "      <td>5.723585</td>\n",
       "      <td>0</td>\n",
       "      <td>0</td>\n",
       "      <td>1</td>\n",
       "      <td>0</td>\n",
       "      <td>0</td>\n",
       "      <td>0</td>\n",
       "      <td>0</td>\n",
       "      <td>0</td>\n",
       "      <td>0</td>\n",
       "      <td>0</td>\n",
       "      <td>0</td>\n",
       "      <td>0</td>\n",
       "    </tr>\n",
       "  </tbody>\n",
       "</table>\n",
       "</div>"
      ],
      "text/plain": [
       "        Month  Passengers month  year   t  t_square  log_Passengers  Apr  Aug  \\\n",
       "84 2002-01-01         284   Jan  2002  85      7225        5.648974    0    0   \n",
       "85 2002-02-01         277   Feb  2002  86      7396        5.624018    0    0   \n",
       "86 2002-03-01         317   Mar  2002  87      7569        5.758902    0    0   \n",
       "87 2002-04-01         313   Apr  2002  88      7744        5.746203    1    0   \n",
       "88 2002-05-01         318   May  2002  89      7921        5.762051    0    0   \n",
       "89 2002-06-01         374   Jun  2002  90      8100        5.924256    0    0   \n",
       "90 2002-07-01         413   Jul  2002  91      8281        6.023448    0    0   \n",
       "91 2002-08-01         405   Aug  2002  92      8464        6.003887    0    1   \n",
       "92 2002-09-01         355   Sep  2002  93      8649        5.872118    0    0   \n",
       "93 2002-10-01         306   Oct  2002  94      8836        5.723585    0    0   \n",
       "94 2002-11-01         271   Nov  2002  95      9025        5.602119    0    0   \n",
       "95 2002-12-01         306   Dec  2002  96      9216        5.723585    0    0   \n",
       "\n",
       "    Dec  Feb  Jan  Jul  Jun  Mar  May  Nov  Oct  Sep  \n",
       "84    0    0    1    0    0    0    0    0    0    0  \n",
       "85    0    1    0    0    0    0    0    0    0    0  \n",
       "86    0    0    0    0    0    1    0    0    0    0  \n",
       "87    0    0    0    0    0    0    0    0    0    0  \n",
       "88    0    0    0    0    0    0    1    0    0    0  \n",
       "89    0    0    0    0    1    0    0    0    0    0  \n",
       "90    0    0    0    1    0    0    0    0    0    0  \n",
       "91    0    0    0    0    0    0    0    0    0    0  \n",
       "92    0    0    0    0    0    0    0    0    0    1  \n",
       "93    0    0    0    0    0    0    0    0    1    0  \n",
       "94    0    0    0    0    0    0    0    1    0    0  \n",
       "95    1    0    0    0    0    0    0    0    0    0  "
      ]
     },
     "execution_count": 48,
     "metadata": {},
     "output_type": "execute_result"
    }
   ],
   "source": [
    "Test"
   ]
  },
  {
   "cell_type": "code",
   "execution_count": 49,
   "id": "965ae550",
   "metadata": {},
   "outputs": [
    {
     "data": {
      "text/plain": [
       "53.19923653480265"
      ]
     },
     "execution_count": 49,
     "metadata": {},
     "output_type": "execute_result"
    }
   ],
   "source": [
    "#Linear Model\n",
    "import statsmodels.formula.api as smf \n",
    "\n",
    "linear_model = smf.ols('Passengers~t',data=Train).fit()\n",
    "pred_linear =  pd.Series(linear_model.predict(pd.DataFrame(Test['t'])))\n",
    "rmse_linear = np.sqrt(np.mean((np.array(Test['Passengers'])-np.array(pred_linear))**2))\n",
    "rmse_linear"
   ]
  },
  {
   "cell_type": "code",
   "execution_count": 50,
   "id": "ef4456fd",
   "metadata": {},
   "outputs": [
    {
     "data": {
      "text/plain": [
       "46.05736110315619"
      ]
     },
     "execution_count": 50,
     "metadata": {},
     "output_type": "execute_result"
    }
   ],
   "source": [
    "#Exponential\n",
    "Exp = smf.ols('log_Passengers~t',data=Train).fit()\n",
    "pred_Exp = pd.Series(Exp.predict(pd.DataFrame(Test['t'])))\n",
    "rmse_Exp = np.sqrt(np.mean((np.array(Test['Passengers'])-np.array(np.exp(pred_Exp)))**2))\n",
    "rmse_Exp"
   ]
  },
  {
   "cell_type": "code",
   "execution_count": 51,
   "id": "acff1239",
   "metadata": {},
   "outputs": [
    {
     "data": {
      "text/plain": [
       "48.051888979331615"
      ]
     },
     "execution_count": 51,
     "metadata": {},
     "output_type": "execute_result"
    }
   ],
   "source": [
    "#Quadratic \n",
    "Quad = smf.ols('Passengers~t+t_square',data=Train).fit()\n",
    "pred_Quad = pd.Series(Quad.predict(Test[[\"t\",\"t_square\"]]))\n",
    "rmse_Quad = np.sqrt(np.mean((np.array(Test['Passengers'])-np.array(pred_Quad))**2))\n",
    "rmse_Quad"
   ]
  },
  {
   "cell_type": "code",
   "execution_count": 52,
   "id": "60455af7",
   "metadata": {},
   "outputs": [
    {
     "data": {
      "text/plain": [
       "132.81978481421814"
      ]
     },
     "execution_count": 52,
     "metadata": {},
     "output_type": "execute_result"
    }
   ],
   "source": [
    "#Additive seasonality \n",
    "add_sea = smf.ols('Passengers~Jan+Feb+Mar+Apr+May+Jun+Jul+Aug+Sep+Oct+Nov',data=Train).fit()\n",
    "pred_add_sea = pd.Series(add_sea.predict(Test[['Jan','Feb','Mar','Apr','May','Jun','Jul','Aug','Sep','Oct','Nov']]))\n",
    "rmse_add_sea = np.sqrt(np.mean((np.array(Test['Passengers'])-np.array(pred_add_sea))**2))\n",
    "rmse_add_sea"
   ]
  },
  {
   "cell_type": "code",
   "execution_count": 53,
   "id": "a1f60a1a",
   "metadata": {},
   "outputs": [
    {
     "data": {
      "text/plain": [
       "26.360817612081384"
      ]
     },
     "execution_count": 53,
     "metadata": {},
     "output_type": "execute_result"
    }
   ],
   "source": [
    "#Additive Seasonality Quadratic \n",
    "add_sea_Quad = smf.ols('Passengers~t+t_square+Jan+Feb+Mar+Apr+May+Jun+Jul+Aug+Sep+Oct+Nov',data=Train).fit()\n",
    "pred_add_sea_quad = pd.Series(add_sea_Quad.predict(Test[['Jan','Feb','Mar','Apr','May','Jun','Jul','Aug','Sep','Oct','Nov','t','t_square']]))\n",
    "rmse_add_sea_quad = np.sqrt(np.mean((np.array(Test['Passengers'])-np.array(pred_add_sea_quad))**2))\n",
    "rmse_add_sea_quad"
   ]
  },
  {
   "cell_type": "code",
   "execution_count": 54,
   "id": "605161e5",
   "metadata": {},
   "outputs": [
    {
     "data": {
      "text/plain": [
       "140.06320204708618"
      ]
     },
     "execution_count": 54,
     "metadata": {},
     "output_type": "execute_result"
    }
   ],
   "source": [
    "##Multiplicative Seasonality\n",
    "Mul_sea = smf.ols('log_Passengers~Jan+Feb+Mar+Apr+May+Jun+Jul+Aug+Sep+Oct+Nov',data = Train).fit()\n",
    "pred_Mult_sea = pd.Series(Mul_sea.predict(Test))\n",
    "rmse_Mult_sea = np.sqrt(np.mean((np.array(Test['Passengers'])-np.array(np.exp(pred_Mult_sea)))**2))\n",
    "rmse_Mult_sea"
   ]
  },
  {
   "cell_type": "code",
   "execution_count": 55,
   "id": "a3800a73",
   "metadata": {},
   "outputs": [
    {
     "data": {
      "text/plain": [
       "10.519172544323684"
      ]
     },
     "execution_count": 55,
     "metadata": {},
     "output_type": "execute_result"
    }
   ],
   "source": [
    "#Multiplicative Additive Seasonality \n",
    "Mul_Add_sea = smf.ols('log_Passengers~t+Jan+Feb+Mar+Apr+May+Jun+Jul+Aug+Sep+Oct+Nov',data = Train).fit()\n",
    "pred_Mult_add_sea = pd.Series(Mul_Add_sea.predict(Test))\n",
    "rmse_Mult_add_sea = np.sqrt(np.mean((np.array(Test['Passengers'])-np.array(np.exp(pred_Mult_add_sea)))**2))\n",
    "rmse_Mult_add_sea"
   ]
  },
  {
   "cell_type": "code",
   "execution_count": 56,
   "id": "0a982b5a",
   "metadata": {},
   "outputs": [
    {
     "data": {
      "text/plain": [
       "325.7312105213401"
      ]
     },
     "execution_count": 56,
     "metadata": {},
     "output_type": "execute_result"
    }
   ],
   "source": [
    "#Multiplicative Seasonality Quadratic \n",
    "mult_sea_Quad = smf.ols('log_Passengers~t+t_square+Jan+Feb+Mar+Apr+May+Jun+Jul+Aug+Sep+Oct+Nov',data=Train).fit()\n",
    "pred_mult_sea_quad = pd.Series(mult_sea_Quad.predict(Test[['Jan','Feb','Mar','Apr','May','Jun','Jul','Aug','Sep','Oct','Nov','t','t_square']]))\n",
    "rmse_mult_sea_quad = np.sqrt(np.mean((np.array(Test['Passengers'])-np.array(pred_mult_sea_quad))**2))\n",
    "rmse_mult_sea_quad"
   ]
  },
  {
   "cell_type": "code",
   "execution_count": 57,
   "id": "17a8b073",
   "metadata": {},
   "outputs": [
    {
     "data": {
      "text/html": [
       "<div>\n",
       "<style scoped>\n",
       "    .dataframe tbody tr th:only-of-type {\n",
       "        vertical-align: middle;\n",
       "    }\n",
       "\n",
       "    .dataframe tbody tr th {\n",
       "        vertical-align: top;\n",
       "    }\n",
       "\n",
       "    .dataframe thead th {\n",
       "        text-align: right;\n",
       "    }\n",
       "</style>\n",
       "<table border=\"1\" class=\"dataframe\">\n",
       "  <thead>\n",
       "    <tr style=\"text-align: right;\">\n",
       "      <th></th>\n",
       "      <th>MODEL</th>\n",
       "      <th>RMSE_Values</th>\n",
       "    </tr>\n",
       "  </thead>\n",
       "  <tbody>\n",
       "    <tr>\n",
       "      <th>6</th>\n",
       "      <td>rmse_Mult_add_sea</td>\n",
       "      <td>10.519173</td>\n",
       "    </tr>\n",
       "    <tr>\n",
       "      <th>4</th>\n",
       "      <td>rmse_add_sea_quad</td>\n",
       "      <td>26.360818</td>\n",
       "    </tr>\n",
       "    <tr>\n",
       "      <th>1</th>\n",
       "      <td>rmse_Exp</td>\n",
       "      <td>46.057361</td>\n",
       "    </tr>\n",
       "    <tr>\n",
       "      <th>2</th>\n",
       "      <td>rmse_Quad</td>\n",
       "      <td>48.051889</td>\n",
       "    </tr>\n",
       "    <tr>\n",
       "      <th>0</th>\n",
       "      <td>rmse_linear</td>\n",
       "      <td>53.199237</td>\n",
       "    </tr>\n",
       "    <tr>\n",
       "      <th>3</th>\n",
       "      <td>rmse_add_sea</td>\n",
       "      <td>132.819785</td>\n",
       "    </tr>\n",
       "    <tr>\n",
       "      <th>5</th>\n",
       "      <td>rmse_Mult_sea</td>\n",
       "      <td>140.063202</td>\n",
       "    </tr>\n",
       "  </tbody>\n",
       "</table>\n",
       "</div>"
      ],
      "text/plain": [
       "               MODEL  RMSE_Values\n",
       "6  rmse_Mult_add_sea    10.519173\n",
       "4  rmse_add_sea_quad    26.360818\n",
       "1           rmse_Exp    46.057361\n",
       "2          rmse_Quad    48.051889\n",
       "0        rmse_linear    53.199237\n",
       "3       rmse_add_sea   132.819785\n",
       "5      rmse_Mult_sea   140.063202"
      ]
     },
     "execution_count": 57,
     "metadata": {},
     "output_type": "execute_result"
    }
   ],
   "source": [
    "data = {\"MODEL\":pd.Series([\"rmse_linear\",\"rmse_Exp\",\"rmse_Quad\",\"rmse_add_sea\",\"rmse_add_sea_quad\",\"rmse_Mult_sea\",\"rmse_Mult_add_sea\"]),\"RMSE_Values\":pd.Series([rmse_linear,rmse_Exp,rmse_Quad,rmse_add_sea,rmse_add_sea_quad,rmse_Mult_sea,rmse_Mult_add_sea])}\n",
    "table_rmse=pd.DataFrame(data)\n",
    "table_rmse.sort_values(['RMSE_Values'])"
   ]
  },
  {
   "cell_type": "code",
   "execution_count": 58,
   "id": "9097af1f",
   "metadata": {},
   "outputs": [],
   "source": [
    "#Build the model on entire data set\n",
    "model_full = smf.ols('log_Passengers~t+Jan+Feb+Mar+Apr+May+Jun+Jul+Aug+Sep+Oct+Nov',data=Airlines).fit()"
   ]
  },
  {
   "cell_type": "code",
   "execution_count": 59,
   "id": "44705202",
   "metadata": {},
   "outputs": [
    {
     "data": {
      "text/plain": [
       "0     4.692963\n",
       "1     4.703487\n",
       "2     4.846666\n",
       "3     4.813814\n",
       "4     4.807291\n",
       "        ...   \n",
       "91    5.978339\n",
       "92    5.868100\n",
       "93    5.737989\n",
       "94    5.607538\n",
       "95    5.744085\n",
       "Length: 96, dtype: float64"
      ]
     },
     "execution_count": 59,
     "metadata": {},
     "output_type": "execute_result"
    }
   ],
   "source": [
    "pred_new  = pd.Series(model_full.predict(Airlines))\n",
    "pred_new"
   ]
  },
  {
   "cell_type": "code",
   "execution_count": 60,
   "id": "d5183392",
   "metadata": {},
   "outputs": [],
   "source": [
    "Airlines[\"forecasted_Passengers\"] = pd.Series(np.exp(pred_new))"
   ]
  },
  {
   "cell_type": "code",
   "execution_count": 61,
   "id": "698b8685",
   "metadata": {},
   "outputs": [
    {
     "data": {
      "text/plain": [
       "[<matplotlib.lines.Line2D at 0x279cf63e3a0>,\n",
       " <matplotlib.lines.Line2D at 0x279cf63e460>]"
      ]
     },
     "execution_count": 61,
     "metadata": {},
     "output_type": "execute_result"
    },
    {
     "data": {
      "image/png": "[encoded data removed]",
      "text/plain": [
       "<Figure size 1080x720 with 1 Axes>"
      ]
     },
     "metadata": {
      "needs_background": "light"
     },
     "output_type": "display_data"
    }
   ],
   "source": [
    "plt.figure(figsize=(15,10))\n",
    "plt.plot(Airlines[['Passengers','forecasted_Passengers']].reset_index(drop=True))"
   ]
  },
  {
   "cell_type": "markdown",
   "id": "598601c8",
   "metadata": {},
   "source": [
    "### Splitting data"
   ]
  },
  {
   "cell_type": "code",
   "execution_count": 62,
   "id": "98c72466",
   "metadata": {},
   "outputs": [],
   "source": [
    "Airlines=pd.read_excel(\"C:/Users/icon/Downloads/Airlines+Data.xlsx\")\n",
    "Train = Airlines.head(84)\n",
    "Test = Airlines.tail(12)"
   ]
  },
  {
   "cell_type": "code",
   "execution_count": 63,
   "id": "ed08d7c3",
   "metadata": {},
   "outputs": [
    {
     "data": {
      "text/html": [
       "<div>\n",
       "<style scoped>\n",
       "    .dataframe tbody tr th:only-of-type {\n",
       "        vertical-align: middle;\n",
       "    }\n",
       "\n",
       "    .dataframe tbody tr th {\n",
       "        vertical-align: top;\n",
       "    }\n",
       "\n",
       "    .dataframe thead th {\n",
       "        text-align: right;\n",
       "    }\n",
       "</style>\n",
       "<table border=\"1\" class=\"dataframe\">\n",
       "  <thead>\n",
       "    <tr style=\"text-align: right;\">\n",
       "      <th></th>\n",
       "      <th>Month</th>\n",
       "      <th>Passengers</th>\n",
       "    </tr>\n",
       "  </thead>\n",
       "  <tbody>\n",
       "    <tr>\n",
       "      <th>0</th>\n",
       "      <td>1995-01-01</td>\n",
       "      <td>112</td>\n",
       "    </tr>\n",
       "    <tr>\n",
       "      <th>1</th>\n",
       "      <td>1995-02-01</td>\n",
       "      <td>118</td>\n",
       "    </tr>\n",
       "    <tr>\n",
       "      <th>2</th>\n",
       "      <td>1995-03-01</td>\n",
       "      <td>132</td>\n",
       "    </tr>\n",
       "    <tr>\n",
       "      <th>3</th>\n",
       "      <td>1995-04-01</td>\n",
       "      <td>129</td>\n",
       "    </tr>\n",
       "    <tr>\n",
       "      <th>4</th>\n",
       "      <td>1995-05-01</td>\n",
       "      <td>121</td>\n",
       "    </tr>\n",
       "    <tr>\n",
       "      <th>...</th>\n",
       "      <td>...</td>\n",
       "      <td>...</td>\n",
       "    </tr>\n",
       "    <tr>\n",
       "      <th>79</th>\n",
       "      <td>2001-08-01</td>\n",
       "      <td>347</td>\n",
       "    </tr>\n",
       "    <tr>\n",
       "      <th>80</th>\n",
       "      <td>2001-09-01</td>\n",
       "      <td>312</td>\n",
       "    </tr>\n",
       "    <tr>\n",
       "      <th>81</th>\n",
       "      <td>2001-10-01</td>\n",
       "      <td>274</td>\n",
       "    </tr>\n",
       "    <tr>\n",
       "      <th>82</th>\n",
       "      <td>2001-11-01</td>\n",
       "      <td>237</td>\n",
       "    </tr>\n",
       "    <tr>\n",
       "      <th>83</th>\n",
       "      <td>2001-12-01</td>\n",
       "      <td>278</td>\n",
       "    </tr>\n",
       "  </tbody>\n",
       "</table>\n",
       "<p>84 rows × 2 columns</p>\n",
       "</div>"
      ],
      "text/plain": [
       "        Month  Passengers\n",
       "0  1995-01-01         112\n",
       "1  1995-02-01         118\n",
       "2  1995-03-01         132\n",
       "3  1995-04-01         129\n",
       "4  1995-05-01         121\n",
       "..        ...         ...\n",
       "79 2001-08-01         347\n",
       "80 2001-09-01         312\n",
       "81 2001-10-01         274\n",
       "82 2001-11-01         237\n",
       "83 2001-12-01         278\n",
       "\n",
       "[84 rows x 2 columns]"
      ]
     },
     "execution_count": 63,
     "metadata": {},
     "output_type": "execute_result"
    }
   ],
   "source": [
    "Train"
   ]
  },
  {
   "cell_type": "code",
   "execution_count": 64,
   "id": "ab53925b",
   "metadata": {},
   "outputs": [
    {
     "data": {
      "text/html": [
       "<div>\n",
       "<style scoped>\n",
       "    .dataframe tbody tr th:only-of-type {\n",
       "        vertical-align: middle;\n",
       "    }\n",
       "\n",
       "    .dataframe tbody tr th {\n",
       "        vertical-align: top;\n",
       "    }\n",
       "\n",
       "    .dataframe thead th {\n",
       "        text-align: right;\n",
       "    }\n",
       "</style>\n",
       "<table border=\"1\" class=\"dataframe\">\n",
       "  <thead>\n",
       "    <tr style=\"text-align: right;\">\n",
       "      <th></th>\n",
       "      <th>Month</th>\n",
       "      <th>Passengers</th>\n",
       "    </tr>\n",
       "  </thead>\n",
       "  <tbody>\n",
       "    <tr>\n",
       "      <th>84</th>\n",
       "      <td>2002-01-01</td>\n",
       "      <td>284</td>\n",
       "    </tr>\n",
       "    <tr>\n",
       "      <th>85</th>\n",
       "      <td>2002-02-01</td>\n",
       "      <td>277</td>\n",
       "    </tr>\n",
       "    <tr>\n",
       "      <th>86</th>\n",
       "      <td>2002-03-01</td>\n",
       "      <td>317</td>\n",
       "    </tr>\n",
       "    <tr>\n",
       "      <th>87</th>\n",
       "      <td>2002-04-01</td>\n",
       "      <td>313</td>\n",
       "    </tr>\n",
       "    <tr>\n",
       "      <th>88</th>\n",
       "      <td>2002-05-01</td>\n",
       "      <td>318</td>\n",
       "    </tr>\n",
       "    <tr>\n",
       "      <th>89</th>\n",
       "      <td>2002-06-01</td>\n",
       "      <td>374</td>\n",
       "    </tr>\n",
       "    <tr>\n",
       "      <th>90</th>\n",
       "      <td>2002-07-01</td>\n",
       "      <td>413</td>\n",
       "    </tr>\n",
       "    <tr>\n",
       "      <th>91</th>\n",
       "      <td>2002-08-01</td>\n",
       "      <td>405</td>\n",
       "    </tr>\n",
       "    <tr>\n",
       "      <th>92</th>\n",
       "      <td>2002-09-01</td>\n",
       "      <td>355</td>\n",
       "    </tr>\n",
       "    <tr>\n",
       "      <th>93</th>\n",
       "      <td>2002-10-01</td>\n",
       "      <td>306</td>\n",
       "    </tr>\n",
       "    <tr>\n",
       "      <th>94</th>\n",
       "      <td>2002-11-01</td>\n",
       "      <td>271</td>\n",
       "    </tr>\n",
       "    <tr>\n",
       "      <th>95</th>\n",
       "      <td>2002-12-01</td>\n",
       "      <td>306</td>\n",
       "    </tr>\n",
       "  </tbody>\n",
       "</table>\n",
       "</div>"
      ],
      "text/plain": [
       "        Month  Passengers\n",
       "84 2002-01-01         284\n",
       "85 2002-02-01         277\n",
       "86 2002-03-01         317\n",
       "87 2002-04-01         313\n",
       "88 2002-05-01         318\n",
       "89 2002-06-01         374\n",
       "90 2002-07-01         413\n",
       "91 2002-08-01         405\n",
       "92 2002-09-01         355\n",
       "93 2002-10-01         306\n",
       "94 2002-11-01         271\n",
       "95 2002-12-01         306"
      ]
     },
     "execution_count": 64,
     "metadata": {},
     "output_type": "execute_result"
    }
   ],
   "source": [
    "Test"
   ]
  },
  {
   "cell_type": "markdown",
   "id": "998e3daa",
   "metadata": {},
   "source": [
    "# Moving Average "
   ]
  },
  {
   "cell_type": "code",
   "execution_count": 68,
   "id": "033e6635",
   "metadata": {},
   "outputs": [
    {
     "data": {
      "text/plain": [
       "<matplotlib.legend.Legend at 0x279cddec460>"
      ]
     },
     "execution_count": 68,
     "metadata": {},
     "output_type": "execute_result"
    },
    {
     "data": {
      "image/png": "[encoded data removed]",
      "text/plain": [
       "<Figure size 1728x504 with 1 Axes>"
      ]
     },
     "metadata": {
      "needs_background": "light"
     },
     "output_type": "display_data"
    }
   ],
   "source": [
    "plt.figure(figsize=(24,7))\n",
    "Airlines['Passengers'].plot(label=\"org\")\n",
    "Airlines[\"Passengers\"].rolling(15).mean().plot(label=str(5))\n",
    "plt.legend(loc='best')"
   ]
  },
  {
   "cell_type": "code",
   "execution_count": 70,
   "id": "2a3fd89f",
   "metadata": {},
   "outputs": [
    {
     "data": {
      "text/plain": [
       "<matplotlib.legend.Legend at 0x279d08e1c40>"
      ]
     },
     "execution_count": 70,
     "metadata": {},
     "output_type": "execute_result"
    },
    {
     "data": {
      "image/png": "[encoded data removed]",
      "text/plain": [
       "<Figure size 1728x504 with 1 Axes>"
      ]
     },
     "metadata": {
      "needs_background": "light"
     },
     "output_type": "display_data"
    }
   ],
   "source": [
    "plt.figure(figsize=(24,7))\n",
    "Airlines['Passengers'].plot(label=\"org\")\n",
    "for i in range(2,24,6):\n",
    "    Airlines[\"Passengers\"].rolling(i).mean().plot(label=str(i))\n",
    "plt.legend(loc='best')"
   ]
  },
  {
   "cell_type": "markdown",
   "id": "667b5ee3",
   "metadata": {},
   "source": [
    "# Time series decomposition plot "
   ]
  },
  {
   "cell_type": "code",
   "execution_count": 73,
   "id": "0fc67246",
   "metadata": {},
   "outputs": [
    {
     "data": {
      "image/png": "[encoded data removed]",
      "text/plain": [
       "<Figure size 432x288 with 4 Axes>"
      ]
     },
     "metadata": {
      "needs_background": "light"
     },
     "output_type": "display_data"
    }
   ],
   "source": [
    "decompose_ts_add = seasonal_decompose(Airlines['Passengers'], period = 12)\n",
    "decompose_ts_add.plot()\n",
    "plt.show()"
   ]
  },
  {
   "cell_type": "markdown",
   "id": "6b1c7e1f",
   "metadata": {},
   "source": [
    "## ACF plots and PACF plots"
   ]
  },
  {
   "cell_type": "code",
   "execution_count": 74,
   "id": "7b11aad2",
   "metadata": {},
   "outputs": [
    {
     "name": "stderr",
     "output_type": "stream",
     "text": [
      "C:\\Users\\icon\\Anaconda3\\lib\\site-packages\\statsmodels\\graphics\\tsaplots.py:348: FutureWarning: The default method 'yw' can produce PACF values outside of the [-1,1] interval. After 0.13, the default will change tounadjusted Yule-Walker ('ywm'). You can use this method now by setting method='ywm'.\n",
      "  warnings.warn(\n"
     ]
    },
    {
     "data": {
      "image/png": "[encoded data removed]",
      "text/plain": [
       "<Figure size 432x288 with 1 Axes>"
      ]
     },
     "metadata": {
      "needs_background": "light"
     },
     "output_type": "display_data"
    },
    {
     "data": {
      "image/png": "[encoded data removed]",
      "text/plain": [
       "<Figure size 432x288 with 1 Axes>"
      ]
     },
     "metadata": {
      "needs_background": "light"
     },
     "output_type": "display_data"
    }
   ],
   "source": [
    "import statsmodels.graphics.tsaplots as tsa_plots\n",
    "tsa_plots.plot_acf(Airlines.Passengers,lags=12)\n",
    "tsa_plots.plot_pacf(Airlines.Passengers,lags=12)\n",
    "plt.show()"
   ]
  },
  {
   "cell_type": "markdown",
   "id": "ce2280f1",
   "metadata": {},
   "source": [
    "### Evaluation Metric MAPE"
   ]
  },
  {
   "cell_type": "code",
   "execution_count": 75,
   "id": "e1a27509",
   "metadata": {},
   "outputs": [],
   "source": [
    "def MAPE(pred,org):\n",
    "    temp = np.abs((pred-org)/org)*100\n",
    "    return np.mean(temp)"
   ]
  },
  {
   "cell_type": "markdown",
   "id": "d6b8bf20",
   "metadata": {},
   "source": [
    "### Simple Exponential Method"
   ]
  },
  {
   "cell_type": "code",
   "execution_count": 76,
   "id": "9aabfd8c",
   "metadata": {},
   "outputs": [
    {
     "data": {
      "text/plain": [
       "13.411274740513823"
      ]
     },
     "execution_count": 76,
     "metadata": {},
     "output_type": "execute_result"
    }
   ],
   "source": [
    "ses_model = SimpleExpSmoothing(Train[\"Passengers\"]).fit(smoothing_level=0.2)\n",
    "pred_ses = ses_model.predict(start = Test.index[0],end = Test.index[-1])\n",
    "MAPE(pred_ses,Test.Passengers)"
   ]
  },
  {
   "cell_type": "markdown",
   "id": "41e842a9",
   "metadata": {},
   "source": [
    "### Holt method "
   ]
  },
  {
   "cell_type": "code",
   "execution_count": 77,
   "id": "9e81d2e6",
   "metadata": {},
   "outputs": [
    {
     "name": "stderr",
     "output_type": "stream",
     "text": [
      "C:\\Users\\icon\\AppData\\Local\\Temp\\ipykernel_4848\\2579047746.py:2: FutureWarning: the 'smoothing_slope'' keyword is deprecated, use 'smoothing_trend' instead.\n",
      "  hw_model = Holt(Train[\"Passengers\"]).fit(smoothing_level=0.8, smoothing_slope=0.2)\n"
     ]
    },
    {
     "data": {
      "text/plain": [
       "23.530719652100696"
      ]
     },
     "execution_count": 77,
     "metadata": {},
     "output_type": "execute_result"
    }
   ],
   "source": [
    "# Holt method \n",
    "hw_model = Holt(Train[\"Passengers\"]).fit(smoothing_level=0.8, smoothing_slope=0.2)\n",
    "pred_hw = hw_model.predict(start = Test.index[0],end = Test.index[-1])\n",
    "MAPE(pred_hw,Test.Passengers) "
   ]
  },
  {
   "cell_type": "markdown",
   "id": "86eef32f",
   "metadata": {},
   "source": [
    "### Holts winter exponential smoothing with additive seasonality and additive trend"
   ]
  },
  {
   "cell_type": "code",
   "execution_count": 78,
   "id": "f54dd0d3",
   "metadata": {},
   "outputs": [
    {
     "data": {
      "text/plain": [
       "5.730086914626161"
      ]
     },
     "execution_count": 78,
     "metadata": {},
     "output_type": "execute_result"
    }
   ],
   "source": [
    "hwe_model_add_add = ExponentialSmoothing(Train[\"Passengers\"],seasonal=\"add\",trend=\"add\",seasonal_periods=12).fit() #add the trend to the model\n",
    "pred_hwe_add_add = hwe_model_add_add.predict(start = Test.index[0],end = Test.index[-1])\n",
    "MAPE(pred_hwe_add_add,Test.Passengers) "
   ]
  },
  {
   "cell_type": "markdown",
   "id": "740915d9",
   "metadata": {},
   "source": [
    "### Holts winter exponential smoothing with multiplicative seasonality and additive trend"
   ]
  },
  {
   "cell_type": "code",
   "execution_count": 79,
   "id": "8bb98999",
   "metadata": {},
   "outputs": [
    {
     "data": {
      "text/plain": [
       "2.8211037520184434"
      ]
     },
     "execution_count": 79,
     "metadata": {},
     "output_type": "execute_result"
    }
   ],
   "source": [
    "hwe_model_mul_add = ExponentialSmoothing(Train[\"Passengers\"],seasonal=\"mul\",trend=\"add\",seasonal_periods=12).fit() \n",
    "pred_hwe_mul_add = hwe_model_mul_add.predict(start = Test.index[0],end = Test.index[-1])\n",
    "MAPE(pred_hwe_mul_add,Test.Passengers)"
   ]
  },
  {
   "cell_type": "markdown",
   "id": "64e4e54b",
   "metadata": {},
   "source": [
    "## Final Model by combining train and test"
   ]
  },
  {
   "cell_type": "code",
   "execution_count": 80,
   "id": "deb7b869",
   "metadata": {},
   "outputs": [],
   "source": [
    "hwe_model_mul_add = ExponentialSmoothing(Airlines[\"Passengers\"],seasonal=\"mul\",trend=\"add\",seasonal_periods=12).fit() "
   ]
  },
  {
   "cell_type": "code",
   "execution_count": 81,
   "id": "0fd0e24f",
   "metadata": {},
   "outputs": [
    {
     "data": {
      "text/plain": [
       "96     312.899723\n",
       "97     308.171686\n",
       "98     355.533357\n",
       "99     345.770496\n",
       "100    345.696845\n",
       "101    392.471713\n",
       "102    436.502474\n",
       "103    429.860339\n",
       "104    380.173941\n",
       "105    332.318445\n",
       "106    290.626599\n",
       "107    330.591734\n",
       "dtype: float64"
      ]
     },
     "execution_count": 81,
     "metadata": {},
     "output_type": "execute_result"
    }
   ],
   "source": [
    "#Forecasting for next 12 time periods\n",
    "hwe_model_mul_add.forecast(12)"
   ]
  },
  {
   "cell_type": "markdown",
   "id": "7833d9dd",
   "metadata": {},
   "source": [
    "# Forecasting using ARIMA model "
   ]
  },
  {
   "cell_type": "code",
   "execution_count": 82,
   "id": "9041a6a6",
   "metadata": {},
   "outputs": [
    {
     "data": {
      "text/html": [
       "<div>\n",
       "<style scoped>\n",
       "    .dataframe tbody tr th:only-of-type {\n",
       "        vertical-align: middle;\n",
       "    }\n",
       "\n",
       "    .dataframe tbody tr th {\n",
       "        vertical-align: top;\n",
       "    }\n",
       "\n",
       "    .dataframe thead th {\n",
       "        text-align: right;\n",
       "    }\n",
       "</style>\n",
       "<table border=\"1\" class=\"dataframe\">\n",
       "  <thead>\n",
       "    <tr style=\"text-align: right;\">\n",
       "      <th></th>\n",
       "      <th>Passengers</th>\n",
       "    </tr>\n",
       "    <tr>\n",
       "      <th>Month</th>\n",
       "      <th></th>\n",
       "    </tr>\n",
       "  </thead>\n",
       "  <tbody>\n",
       "    <tr>\n",
       "      <th>1995-01-01</th>\n",
       "      <td>112</td>\n",
       "    </tr>\n",
       "    <tr>\n",
       "      <th>1995-02-01</th>\n",
       "      <td>118</td>\n",
       "    </tr>\n",
       "    <tr>\n",
       "      <th>1995-03-01</th>\n",
       "      <td>132</td>\n",
       "    </tr>\n",
       "    <tr>\n",
       "      <th>1995-04-01</th>\n",
       "      <td>129</td>\n",
       "    </tr>\n",
       "    <tr>\n",
       "      <th>1995-05-01</th>\n",
       "      <td>121</td>\n",
       "    </tr>\n",
       "    <tr>\n",
       "      <th>...</th>\n",
       "      <td>...</td>\n",
       "    </tr>\n",
       "    <tr>\n",
       "      <th>2002-08-01</th>\n",
       "      <td>405</td>\n",
       "    </tr>\n",
       "    <tr>\n",
       "      <th>2002-09-01</th>\n",
       "      <td>355</td>\n",
       "    </tr>\n",
       "    <tr>\n",
       "      <th>2002-10-01</th>\n",
       "      <td>306</td>\n",
       "    </tr>\n",
       "    <tr>\n",
       "      <th>2002-11-01</th>\n",
       "      <td>271</td>\n",
       "    </tr>\n",
       "    <tr>\n",
       "      <th>2002-12-01</th>\n",
       "      <td>306</td>\n",
       "    </tr>\n",
       "  </tbody>\n",
       "</table>\n",
       "<p>96 rows × 1 columns</p>\n",
       "</div>"
      ],
      "text/plain": [
       "            Passengers\n",
       "Month                 \n",
       "1995-01-01         112\n",
       "1995-02-01         118\n",
       "1995-03-01         132\n",
       "1995-04-01         129\n",
       "1995-05-01         121\n",
       "...                ...\n",
       "2002-08-01         405\n",
       "2002-09-01         355\n",
       "2002-10-01         306\n",
       "2002-11-01         271\n",
       "2002-12-01         306\n",
       "\n",
       "[96 rows x 1 columns]"
      ]
     },
     "execution_count": 82,
     "metadata": {},
     "output_type": "execute_result"
    }
   ],
   "source": [
    "Airlines=pd.read_excel(\"C:/Users/icon/Downloads/Airlines+Data.xlsx\",header=0, index_col=0, parse_dates=True)\n",
    "Airlines"
   ]
  },
  {
   "cell_type": "code",
   "execution_count": 84,
   "id": "f518873c",
   "metadata": {},
   "outputs": [
    {
     "name": "stdout",
     "output_type": "stream",
     "text": [
      "Dataset 84, Validation 12\n"
     ]
    }
   ],
   "source": [
    "# separate out a validation dataset\n",
    "split_point = len(Airlines) - 12\n",
    "\n",
    "dataset, validation = Airlines[0:split_point], Airlines[split_point:]\n",
    "\n",
    "print('Dataset %d, Validation %d' % (len(dataset), len(validation)))\n",
    "\n",
    "dataset.to_csv('dataset.csv', header=False)\n",
    "validation.to_csv('validation.csv', header=False)"
   ]
  },
  {
   "cell_type": "markdown",
   "id": "b91f2ec0",
   "metadata": {},
   "source": [
    "#### Persistence/ Base model"
   ]
  },
  {
   "cell_type": "code",
   "execution_count": 85,
   "id": "9a681342",
   "metadata": {},
   "outputs": [
    {
     "name": "stderr",
     "output_type": "stream",
     "text": [
      "C:\\Users\\icon\\AppData\\Local\\Temp\\ipykernel_4848\\2746187420.py:3: FutureWarning: The squeeze argument has been deprecated and will be removed in a future version. Append .squeeze(\"columns\") to the call to squeeze.\n",
      "\n",
      "\n",
      "  train = pd.read_csv('dataset.csv', header=None, index_col=0, parse_dates=True, squeeze=True)\n"
     ]
    },
    {
     "data": {
      "text/plain": [
       "0\n",
       "1995-01-01    112\n",
       "1995-02-01    118\n",
       "1995-03-01    132\n",
       "1995-04-01    129\n",
       "1995-05-01    121\n",
       "             ... \n",
       "2001-08-01    347\n",
       "2001-09-01    312\n",
       "2001-10-01    274\n",
       "2001-11-01    237\n",
       "2001-12-01    278\n",
       "Name: 1, Length: 84, dtype: int64"
      ]
     },
     "execution_count": 85,
     "metadata": {},
     "output_type": "execute_result"
    }
   ],
   "source": [
    "# evaluate a persistence model\n",
    "# load data\n",
    "train = pd.read_csv('dataset.csv', header=None, index_col=0, parse_dates=True, squeeze=True)\n",
    "train"
   ]
  },
  {
   "cell_type": "code",
   "execution_count": 86,
   "id": "fde10383",
   "metadata": {},
   "outputs": [
    {
     "data": {
      "text/plain": [
       "array([112, 118, 132, 129, 121, 135, 148, 148, 136, 119, 104, 118, 115,\n",
       "       126, 141, 135, 125, 149, 170, 170, 158, 133, 114, 140, 145, 150,\n",
       "       178, 163, 172, 178, 199, 199, 184, 162, 146, 166, 171, 180, 193,\n",
       "       181, 183, 218, 230, 242, 209, 191, 172, 194, 196, 196, 236, 235,\n",
       "       229, 243, 264, 272, 237, 211, 180, 201, 204, 188, 235, 227, 234,\n",
       "       264, 302, 293, 259, 229, 203, 229, 242, 233, 267, 269, 270, 315,\n",
       "       364, 347, 312, 274, 237, 278], dtype=int64)"
      ]
     },
     "execution_count": 86,
     "metadata": {},
     "output_type": "execute_result"
    }
   ],
   "source": [
    "# prepare data\n",
    "X = train.values\n",
    "X"
   ]
  },
  {
   "cell_type": "code",
   "execution_count": 87,
   "id": "00c55245",
   "metadata": {},
   "outputs": [
    {
     "data": {
      "text/plain": [
       "array([112., 118., 132., 129., 121., 135., 148., 148., 136., 119., 104.,\n",
       "       118., 115., 126., 141., 135., 125., 149., 170., 170., 158., 133.,\n",
       "       114., 140., 145., 150., 178., 163., 172., 178., 199., 199., 184.,\n",
       "       162., 146., 166., 171., 180., 193., 181., 183., 218., 230., 242.,\n",
       "       209., 191., 172., 194., 196., 196., 236., 235., 229., 243., 264.,\n",
       "       272., 237., 211., 180., 201., 204., 188., 235., 227., 234., 264.,\n",
       "       302., 293., 259., 229., 203., 229., 242., 233., 267., 269., 270.,\n",
       "       315., 364., 347., 312., 274., 237., 278.], dtype=float32)"
      ]
     },
     "execution_count": 87,
     "metadata": {},
     "output_type": "execute_result"
    }
   ],
   "source": [
    "X = X.astype('float32')\n",
    "X"
   ]
  },
  {
   "cell_type": "code",
   "execution_count": 88,
   "id": "8f2cfbb4",
   "metadata": {},
   "outputs": [
    {
     "data": {
      "text/plain": [
       "42"
      ]
     },
     "execution_count": 88,
     "metadata": {},
     "output_type": "execute_result"
    }
   ],
   "source": [
    "train_size = int(len(X) * 0.50)\n",
    "train_size"
   ]
  },
  {
   "cell_type": "code",
   "execution_count": 89,
   "id": "66083900",
   "metadata": {},
   "outputs": [],
   "source": [
    "train, test = X[0:train_size], X[train_size:]"
   ]
  },
  {
   "cell_type": "code",
   "execution_count": 90,
   "id": "44aa55ba",
   "metadata": {},
   "outputs": [
    {
     "data": {
      "text/plain": [
       "array([112., 118., 132., 129., 121., 135., 148., 148., 136., 119., 104.,\n",
       "       118., 115., 126., 141., 135., 125., 149., 170., 170., 158., 133.,\n",
       "       114., 140., 145., 150., 178., 163., 172., 178., 199., 199., 184.,\n",
       "       162., 146., 166., 171., 180., 193., 181., 183., 218.],\n",
       "      dtype=float32)"
      ]
     },
     "execution_count": 90,
     "metadata": {},
     "output_type": "execute_result"
    }
   ],
   "source": [
    "train"
   ]
  },
  {
   "cell_type": "code",
   "execution_count": 91,
   "id": "c42313fe",
   "metadata": {},
   "outputs": [
    {
     "data": {
      "text/plain": [
       "array([230., 242., 209., 191., 172., 194., 196., 196., 236., 235., 229.,\n",
       "       243., 264., 272., 237., 211., 180., 201., 204., 188., 235., 227.,\n",
       "       234., 264., 302., 293., 259., 229., 203., 229., 242., 233., 267.,\n",
       "       269., 270., 315., 364., 347., 312., 274., 237., 278.],\n",
       "      dtype=float32)"
      ]
     },
     "execution_count": 91,
     "metadata": {},
     "output_type": "execute_result"
    }
   ],
   "source": [
    "test"
   ]
  },
  {
   "cell_type": "code",
   "execution_count": 92,
   "id": "a41b0122",
   "metadata": {},
   "outputs": [
    {
     "data": {
      "text/plain": [
       "[112.0,\n",
       " 118.0,\n",
       " 132.0,\n",
       " 129.0,\n",
       " 121.0,\n",
       " 135.0,\n",
       " 148.0,\n",
       " 148.0,\n",
       " 136.0,\n",
       " 119.0,\n",
       " 104.0,\n",
       " 118.0,\n",
       " 115.0,\n",
       " 126.0,\n",
       " 141.0,\n",
       " 135.0,\n",
       " 125.0,\n",
       " 149.0,\n",
       " 170.0,\n",
       " 170.0,\n",
       " 158.0,\n",
       " 133.0,\n",
       " 114.0,\n",
       " 140.0,\n",
       " 145.0,\n",
       " 150.0,\n",
       " 178.0,\n",
       " 163.0,\n",
       " 172.0,\n",
       " 178.0,\n",
       " 199.0,\n",
       " 199.0,\n",
       " 184.0,\n",
       " 162.0,\n",
       " 146.0,\n",
       " 166.0,\n",
       " 171.0,\n",
       " 180.0,\n",
       " 193.0,\n",
       " 181.0,\n",
       " 183.0,\n",
       " 218.0]"
      ]
     },
     "execution_count": 92,
     "metadata": {},
     "output_type": "execute_result"
    }
   ],
   "source": [
    "# walk-forward validation\n",
    "history = [x for x in train]\n",
    "history"
   ]
  },
  {
   "cell_type": "markdown",
   "id": "16527449",
   "metadata": {},
   "source": [
    "## Predictions"
   ]
  },
  {
   "cell_type": "code",
   "execution_count": 93,
   "id": "ab06c422",
   "metadata": {},
   "outputs": [
    {
     "name": "stdout",
     "output_type": "stream",
     "text": [
      ">Predicted=218.000, Expected=230.000\n",
      ">Predicted=230.000, Expected=242.000\n",
      ">Predicted=242.000, Expected=209.000\n",
      ">Predicted=209.000, Expected=191.000\n",
      ">Predicted=191.000, Expected=172.000\n",
      ">Predicted=172.000, Expected=194.000\n",
      ">Predicted=194.000, Expected=196.000\n",
      ">Predicted=196.000, Expected=196.000\n",
      ">Predicted=196.000, Expected=236.000\n",
      ">Predicted=236.000, Expected=235.000\n",
      ">Predicted=235.000, Expected=229.000\n",
      ">Predicted=229.000, Expected=243.000\n",
      ">Predicted=243.000, Expected=264.000\n",
      ">Predicted=264.000, Expected=272.000\n",
      ">Predicted=272.000, Expected=237.000\n",
      ">Predicted=237.000, Expected=211.000\n",
      ">Predicted=211.000, Expected=180.000\n",
      ">Predicted=180.000, Expected=201.000\n",
      ">Predicted=201.000, Expected=204.000\n",
      ">Predicted=204.000, Expected=188.000\n",
      ">Predicted=188.000, Expected=235.000\n",
      ">Predicted=235.000, Expected=227.000\n",
      ">Predicted=227.000, Expected=234.000\n",
      ">Predicted=234.000, Expected=264.000\n",
      ">Predicted=264.000, Expected=302.000\n",
      ">Predicted=302.000, Expected=293.000\n",
      ">Predicted=293.000, Expected=259.000\n",
      ">Predicted=259.000, Expected=229.000\n",
      ">Predicted=229.000, Expected=203.000\n",
      ">Predicted=203.000, Expected=229.000\n",
      ">Predicted=229.000, Expected=242.000\n",
      ">Predicted=242.000, Expected=233.000\n",
      ">Predicted=233.000, Expected=267.000\n",
      ">Predicted=267.000, Expected=269.000\n",
      ">Predicted=269.000, Expected=270.000\n",
      ">Predicted=270.000, Expected=315.000\n",
      ">Predicted=315.000, Expected=364.000\n",
      ">Predicted=364.000, Expected=347.000\n",
      ">Predicted=347.000, Expected=312.000\n",
      ">Predicted=312.000, Expected=274.000\n",
      ">Predicted=274.000, Expected=237.000\n",
      ">Predicted=237.000, Expected=278.000\n"
     ]
    }
   ],
   "source": [
    "predictions = list()\n",
    "\n",
    "for i in range(len(test)):\n",
    "    yhat = history[-1]\n",
    "    predictions.append(yhat)\n",
    "    \n",
    "    # observation\n",
    "    obs = test[i]\n",
    "    history.append(obs)\n",
    "    \n",
    "    print('>Predicted=%.3f, Expected=%.3f' % (yhat, obs))"
   ]
  },
  {
   "cell_type": "code",
   "execution_count": 94,
   "id": "5f74a642",
   "metadata": {},
   "outputs": [
    {
     "name": "stdout",
     "output_type": "stream",
     "text": [
      "RMSE: 26.029\n"
     ]
    }
   ],
   "source": [
    "# report performance\n",
    "rmse = sqrt(mean_squared_error(test, predictions))\n",
    "print('RMSE: %.3f' % rmse)"
   ]
  },
  {
   "cell_type": "markdown",
   "id": "cda278bd",
   "metadata": {},
   "source": [
    "#### ARIMA Hyperparameters"
   ]
  },
  {
   "cell_type": "code",
   "execution_count": 95,
   "id": "b99f713e",
   "metadata": {},
   "outputs": [],
   "source": [
    "# grid search ARIMA parameters for a time series\n",
    "# evaluate an ARIMA model for a given order (p,d,q) and return RMSE\n",
    "\n",
    "def evaluate_arima_model(X, arima_order):\n",
    "    # prepare training dataset\n",
    "    X = X.astype('float32')\n",
    "    train_size = int(len(X) * 0.50)\n",
    "    train, test = X[0:train_size], X[train_size:]\n",
    "    history = [x for x in train]\n",
    "    \n",
    "    # make predictions\n",
    "    predictions = list()\n",
    "    for i in range(len(test)):\n",
    "        model = ARIMA(history, order = arima_order)\n",
    "        model_fit = model.fit()\n",
    "        yhat = model_fit.forecast()[0]\n",
    "        predictions.append(yhat)\n",
    "        history.append(test[i])\n",
    "    \n",
    "    # calculate out of sample error\n",
    "    rmse = sqrt(mean_squared_error(test, predictions))\n",
    "    return rmse"
   ]
  },
  {
   "cell_type": "markdown",
   "id": "ad121469",
   "metadata": {},
   "source": [
    "#### Grid search for p,d,q values"
   ]
  },
  {
   "cell_type": "code",
   "execution_count": 96,
   "id": "a32fb9c3",
   "metadata": {},
   "outputs": [],
   "source": [
    "# evaluate combinations of p, d and q values for an ARIMA model\n",
    "\n",
    "def evaluate_models(dataset, p_values, d_values, q_values):\n",
    "    \n",
    "    dataset = dataset.astype('float32')\n",
    "    \n",
    "    best_score, best_cfg = float('inf'), None\n",
    "    \n",
    "    for p,d,q in itertools.product(p_values, d_values, q_values):\n",
    "    #for p in p_values:\n",
    "    #    for d in d_values:\n",
    "    #        for q in q_values:\n",
    "    \n",
    "                order = (p,d,q)\n",
    "                try:\n",
    "                    rmse = evaluate_arima_model(train, order)\n",
    "                    if rmse < best_score:\n",
    "                        best_score, best_cfg = rmse, order\n",
    "                    print('ARIMA%s RMSE=%.3f' % (order,rmse))\n",
    "                except:\n",
    "                    continue\n",
    "    print('Best ARIMA %s RMSE=%.3f' % (best_cfg, best_score))"
   ]
  },
  {
   "cell_type": "code",
   "execution_count": 97,
   "id": "fbd9a036",
   "metadata": {},
   "outputs": [
    {
     "name": "stderr",
     "output_type": "stream",
     "text": [
      "C:\\Users\\icon\\AppData\\Local\\Temp\\ipykernel_4848\\240493752.py:2: FutureWarning: The squeeze argument has been deprecated and will be removed in a future version. Append .squeeze(\"columns\") to the call to squeeze.\n",
      "\n",
      "\n",
      "  train = pd.read_csv('dataset.csv', header=None, index_col=0, parse_dates=True, squeeze=True)\n"
     ]
    },
    {
     "data": {
      "text/plain": [
       "0\n",
       "1995-01-01    112\n",
       "1995-02-01    118\n",
       "1995-03-01    132\n",
       "1995-04-01    129\n",
       "1995-05-01    121\n",
       "             ... \n",
       "2001-08-01    347\n",
       "2001-09-01    312\n",
       "2001-10-01    274\n",
       "2001-11-01    237\n",
       "2001-12-01    278\n",
       "Name: 1, Length: 84, dtype: int64"
      ]
     },
     "execution_count": 97,
     "metadata": {},
     "output_type": "execute_result"
    }
   ],
   "source": [
    "# load dataset\n",
    "train = pd.read_csv('dataset.csv', header=None, index_col=0, parse_dates=True, squeeze=True)\n",
    "train"
   ]
  },
  {
   "cell_type": "code",
   "execution_count": 98,
   "id": "b00255cc",
   "metadata": {},
   "outputs": [],
   "source": [
    "# evaluate parameters\n",
    "p_values = range(0, 5)\n",
    "d_values = range(0, 5)\n",
    "q_values = range(0, 5)"
   ]
  },
  {
   "cell_type": "code",
   "execution_count": 99,
   "id": "9176fd98",
   "metadata": {},
   "outputs": [
    {
     "name": "stdout",
     "output_type": "stream",
     "text": [
      "ARIMA(0, 0, 0) RMSE=78.356\n",
      "ARIMA(0, 0, 1) RMSE=44.791\n",
      "ARIMA(0, 0, 2) RMSE=34.739\n",
      "ARIMA(0, 0, 3) RMSE=29.162\n",
      "ARIMA(0, 0, 4) RMSE=30.072\n",
      "ARIMA(0, 1, 0) RMSE=26.029\n",
      "ARIMA(0, 1, 1) RMSE=25.374\n",
      "ARIMA(0, 1, 2) RMSE=26.051\n",
      "ARIMA(0, 1, 3) RMSE=25.943\n",
      "ARIMA(0, 1, 4) RMSE=24.471\n",
      "ARIMA(0, 2, 0) RMSE=32.281\n",
      "ARIMA(0, 2, 1) RMSE=26.206\n",
      "ARIMA(0, 2, 2) RMSE=25.556\n",
      "ARIMA(0, 2, 3) RMSE=27.088\n",
      "ARIMA(0, 2, 4) RMSE=24.274\n",
      "ARIMA(0, 3, 0) RMSE=49.456\n",
      "ARIMA(0, 3, 1) RMSE=32.545\n",
      "ARIMA(0, 3, 2) RMSE=26.721\n",
      "ARIMA(0, 3, 3) RMSE=26.032\n",
      "ARIMA(0, 3, 4) RMSE=26.631\n",
      "ARIMA(0, 4, 0) RMSE=84.509\n",
      "ARIMA(0, 4, 1) RMSE=49.870\n",
      "ARIMA(0, 4, 2) RMSE=33.150\n",
      "ARIMA(0, 4, 3) RMSE=27.920\n",
      "ARIMA(0, 4, 4) RMSE=31.675\n",
      "ARIMA(1, 0, 0) RMSE=26.447\n",
      "ARIMA(1, 0, 1) RMSE=25.615\n",
      "ARIMA(1, 0, 2) RMSE=26.125\n",
      "ARIMA(1, 0, 3) RMSE=28.051\n",
      "ARIMA(1, 0, 4) RMSE=25.580\n",
      "ARIMA(1, 1, 0) RMSE=25.723\n",
      "ARIMA(1, 1, 1) RMSE=25.457\n",
      "ARIMA(1, 1, 2) RMSE=24.457\n",
      "ARIMA(1, 1, 3) RMSE=24.800\n",
      "ARIMA(1, 1, 4) RMSE=24.551\n",
      "ARIMA(1, 2, 0) RMSE=31.529\n",
      "ARIMA(1, 2, 1) RMSE=25.926\n",
      "ARIMA(1, 2, 2) RMSE=25.694\n",
      "ARIMA(1, 2, 3) RMSE=25.919\n",
      "ARIMA(1, 2, 4) RMSE=27.350\n",
      "ARIMA(1, 3, 0) RMSE=43.229\n",
      "ARIMA(1, 3, 1) RMSE=31.785\n",
      "ARIMA(1, 3, 2) RMSE=31.022\n",
      "ARIMA(1, 3, 3) RMSE=25.942\n",
      "ARIMA(1, 3, 4) RMSE=26.033\n",
      "ARIMA(1, 4, 0) RMSE=66.233\n",
      "ARIMA(1, 4, 1) RMSE=43.582\n",
      "ARIMA(1, 4, 2) RMSE=32.423\n",
      "ARIMA(1, 4, 3) RMSE=33.345\n",
      "ARIMA(1, 4, 4) RMSE=26.887\n",
      "ARIMA(2, 0, 0) RMSE=25.998\n",
      "ARIMA(2, 0, 1) RMSE=25.989\n",
      "ARIMA(2, 0, 2) RMSE=25.514\n",
      "ARIMA(2, 0, 3) RMSE=25.612\n",
      "ARIMA(2, 0, 4) RMSE=25.939\n",
      "ARIMA(2, 1, 0) RMSE=25.425\n",
      "ARIMA(2, 1, 1) RMSE=24.162\n",
      "ARIMA(2, 1, 2) RMSE=24.478\n",
      "ARIMA(2, 1, 3) RMSE=22.987\n",
      "ARIMA(2, 1, 4) RMSE=25.313\n",
      "ARIMA(2, 2, 0) RMSE=30.514\n",
      "ARIMA(2, 2, 1) RMSE=25.645\n",
      "ARIMA(2, 2, 2) RMSE=25.663\n",
      "ARIMA(2, 2, 3) RMSE=25.575\n",
      "ARIMA(2, 2, 4) RMSE=26.888\n",
      "ARIMA(2, 3, 0) RMSE=38.910\n",
      "ARIMA(2, 3, 1) RMSE=30.768\n",
      "ARIMA(2, 3, 2) RMSE=6058.073\n",
      "ARIMA(2, 3, 3) RMSE=27.291\n",
      "ARIMA(2, 3, 4) RMSE=26.726\n",
      "ARIMA(2, 4, 0) RMSE=52.743\n",
      "ARIMA(2, 4, 1) RMSE=39.242\n",
      "ARIMA(2, 4, 2) RMSE=33.463\n",
      "ARIMA(2, 4, 3) RMSE=34.287\n",
      "ARIMA(2, 4, 4) RMSE=28.715\n",
      "ARIMA(3, 0, 0) RMSE=25.825\n",
      "ARIMA(3, 0, 1) RMSE=26.053\n",
      "ARIMA(3, 0, 2) RMSE=26.575\n",
      "ARIMA(3, 0, 3) RMSE=24.304\n",
      "ARIMA(3, 0, 4) RMSE=24.824\n",
      "ARIMA(3, 1, 0) RMSE=25.593\n",
      "ARIMA(3, 1, 1) RMSE=24.417\n",
      "ARIMA(3, 1, 2) RMSE=24.621\n",
      "ARIMA(3, 1, 3) RMSE=22.475\n",
      "ARIMA(3, 1, 4) RMSE=25.193\n",
      "ARIMA(3, 2, 0) RMSE=30.734\n",
      "ARIMA(3, 2, 1) RMSE=25.773\n",
      "ARIMA(3, 2, 2) RMSE=25.239\n",
      "ARIMA(3, 2, 3) RMSE=24.143\n",
      "ARIMA(3, 2, 4) RMSE=26.763\n",
      "ARIMA(3, 3, 0) RMSE=38.825\n",
      "ARIMA(3, 3, 1) RMSE=30.968\n",
      "ARIMA(3, 3, 2) RMSE=31.344\n",
      "ARIMA(3, 3, 3) RMSE=26.279\n",
      "ARIMA(3, 3, 4) RMSE=27.788\n",
      "ARIMA(3, 4, 0) RMSE=49.948\n",
      "ARIMA(3, 4, 1) RMSE=39.186\n",
      "ARIMA(3, 4, 2) RMSE=38.296\n",
      "ARIMA(3, 4, 3) RMSE=36.771\n",
      "ARIMA(4, 0, 0) RMSE=26.048\n",
      "ARIMA(4, 0, 1) RMSE=25.670\n",
      "ARIMA(4, 0, 2) RMSE=27.119\n",
      "ARIMA(4, 0, 3) RMSE=23.727\n",
      "ARIMA(4, 0, 4) RMSE=25.779\n",
      "ARIMA(4, 1, 0) RMSE=25.167\n",
      "ARIMA(4, 1, 1) RMSE=54.490\n",
      "ARIMA(4, 1, 2) RMSE=26.161\n",
      "ARIMA(4, 1, 3) RMSE=23.809\n",
      "ARIMA(4, 1, 4) RMSE=23.790\n",
      "ARIMA(4, 2, 0) RMSE=29.262\n",
      "ARIMA(4, 2, 1) RMSE=25.192\n",
      "ARIMA(4, 2, 2) RMSE=26.680\n",
      "ARIMA(4, 2, 3) RMSE=25.114\n",
      "ARIMA(4, 2, 4) RMSE=23.466\n",
      "ARIMA(4, 3, 0) RMSE=36.846\n",
      "ARIMA(4, 3, 1) RMSE=29.501\n",
      "ARIMA(4, 3, 2) RMSE=29.966\n",
      "ARIMA(4, 3, 3) RMSE=26.642\n",
      "ARIMA(4, 3, 4) RMSE=28.717\n",
      "ARIMA(4, 4, 0) RMSE=47.915\n",
      "ARIMA(4, 4, 1) RMSE=37.198\n",
      "ARIMA(4, 4, 2) RMSE=30.138\n",
      "ARIMA(4, 4, 3) RMSE=37.841\n",
      "ARIMA(4, 4, 4) RMSE=31.512\n",
      "Best ARIMA (3, 1, 3) RMSE=22.475\n"
     ]
    }
   ],
   "source": [
    "warnings.filterwarnings(\"ignore\")\n",
    "evaluate_models(train.values, p_values, d_values, q_values)"
   ]
  },
  {
   "cell_type": "markdown",
   "id": "1cdd3b78",
   "metadata": {},
   "source": [
    "#### Build Model based on the optimized values"
   ]
  },
  {
   "cell_type": "code",
   "execution_count": 100,
   "id": "02862371",
   "metadata": {},
   "outputs": [
    {
     "data": {
      "text/html": [
       "<div>\n",
       "<style scoped>\n",
       "    .dataframe tbody tr th:only-of-type {\n",
       "        vertical-align: middle;\n",
       "    }\n",
       "\n",
       "    .dataframe tbody tr th {\n",
       "        vertical-align: top;\n",
       "    }\n",
       "\n",
       "    .dataframe thead th {\n",
       "        text-align: right;\n",
       "    }\n",
       "</style>\n",
       "<table border=\"1\" class=\"dataframe\">\n",
       "  <thead>\n",
       "    <tr style=\"text-align: right;\">\n",
       "      <th></th>\n",
       "      <th>112</th>\n",
       "    </tr>\n",
       "    <tr>\n",
       "      <th>1995-01-01</th>\n",
       "      <th></th>\n",
       "    </tr>\n",
       "  </thead>\n",
       "  <tbody>\n",
       "    <tr>\n",
       "      <th>1995-02-01</th>\n",
       "      <td>118</td>\n",
       "    </tr>\n",
       "    <tr>\n",
       "      <th>1995-03-01</th>\n",
       "      <td>132</td>\n",
       "    </tr>\n",
       "    <tr>\n",
       "      <th>1995-04-01</th>\n",
       "      <td>129</td>\n",
       "    </tr>\n",
       "    <tr>\n",
       "      <th>1995-05-01</th>\n",
       "      <td>121</td>\n",
       "    </tr>\n",
       "    <tr>\n",
       "      <th>1995-06-01</th>\n",
       "      <td>135</td>\n",
       "    </tr>\n",
       "    <tr>\n",
       "      <th>...</th>\n",
       "      <td>...</td>\n",
       "    </tr>\n",
       "    <tr>\n",
       "      <th>2001-08-01</th>\n",
       "      <td>347</td>\n",
       "    </tr>\n",
       "    <tr>\n",
       "      <th>2001-09-01</th>\n",
       "      <td>312</td>\n",
       "    </tr>\n",
       "    <tr>\n",
       "      <th>2001-10-01</th>\n",
       "      <td>274</td>\n",
       "    </tr>\n",
       "    <tr>\n",
       "      <th>2001-11-01</th>\n",
       "      <td>237</td>\n",
       "    </tr>\n",
       "    <tr>\n",
       "      <th>2001-12-01</th>\n",
       "      <td>278</td>\n",
       "    </tr>\n",
       "  </tbody>\n",
       "</table>\n",
       "<p>83 rows × 1 columns</p>\n",
       "</div>"
      ],
      "text/plain": [
       "            112\n",
       "1995-01-01     \n",
       "1995-02-01  118\n",
       "1995-03-01  132\n",
       "1995-04-01  129\n",
       "1995-05-01  121\n",
       "1995-06-01  135\n",
       "...         ...\n",
       "2001-08-01  347\n",
       "2001-09-01  312\n",
       "2001-10-01  274\n",
       "2001-11-01  237\n",
       "2001-12-01  278\n",
       "\n",
       "[83 rows x 1 columns]"
      ]
     },
     "execution_count": 100,
     "metadata": {},
     "output_type": "execute_result"
    }
   ],
   "source": [
    "# save finalized model to file\n",
    "# load data\n",
    "train = pd.read_csv('dataset.csv', header=0, index_col=0, parse_dates=True)\n",
    "train"
   ]
  },
  {
   "cell_type": "code",
   "execution_count": 101,
   "id": "e58c469d",
   "metadata": {},
   "outputs": [],
   "source": [
    "# prepare data\n",
    "X = train.values\n",
    "X = X.astype('float32')"
   ]
  },
  {
   "cell_type": "code",
   "execution_count": 103,
   "id": "b205df46",
   "metadata": {},
   "outputs": [
    {
     "data": {
      "text/plain": [
       "array([285.42340898, 286.31684867, 301.74727047, 309.57920908,\n",
       "       322.48027776, 325.5521459 , 328.29566959, 322.59323859,\n",
       "       316.87151067, 307.51815066, 301.28148545, 295.99177013])"
      ]
     },
     "execution_count": 103,
     "metadata": {},
     "output_type": "execute_result"
    }
   ],
   "source": [
    "# fit model\n",
    "model = ARIMA(X, order=(3,1,3))\n",
    "model_fit = model.fit()\n",
    "forecast = model_fit.forecast(steps = 12)\n",
    "forecast"
   ]
  },
  {
   "cell_type": "code",
   "execution_count": 104,
   "id": "027db5bc",
   "metadata": {},
   "outputs": [
    {
     "data": {
      "image/png": "[encoded data removed]",
      "text/plain": [
       "<Figure size 432x288 with 1 Axes>"
      ]
     },
     "execution_count": 104,
     "metadata": {},
     "output_type": "execute_result"
    },
    {
     "data": {
      "image/png": "[encoded data removed]",
      "text/plain": [
       "<Figure size 432x288 with 1 Axes>"
      ]
     },
     "metadata": {
      "needs_background": "light"
     },
     "output_type": "display_data"
    }
   ],
   "source": [
    "from statsmodels.graphics.tsaplots import plot_predict\n",
    "plot_predict(model_fit,1,96)\n",
    "#model_fit.plot_predict(1, 96)"
   ]
  },
  {
   "cell_type": "code",
   "execution_count": 105,
   "id": "76b8c146",
   "metadata": {},
   "outputs": [
    {
     "data": {
      "text/plain": [
       "39.93678568490967"
      ]
     },
     "execution_count": 105,
     "metadata": {},
     "output_type": "execute_result"
    }
   ],
   "source": [
    "#Error on the test data\n",
    "val = pd.read_csv('validation.csv', header=None)\n",
    "rmse = sqrt(mean_squared_error(val[1], forecast))\n",
    "rmse"
   ]
  },
  {
   "cell_type": "markdown",
   "id": "c123953a",
   "metadata": {},
   "source": [
    "#### Combine train and test data and build final model"
   ]
  },
  {
   "cell_type": "code",
   "execution_count": 106,
   "id": "5501a582",
   "metadata": {},
   "outputs": [],
   "source": [
    "# fit model\n",
    "Airlines=pd.read_excel(\"C:/Users/icon/Downloads/Airlines+Data.xlsx\",header=0, index_col=0, parse_dates=True)\n",
    "\n",
    "# prepare data\n",
    "X = train.values\n",
    "X = X.astype('float32')"
   ]
  },
  {
   "cell_type": "code",
   "execution_count": 107,
   "id": "ecde5178",
   "metadata": {},
   "outputs": [],
   "source": [
    "model = ARIMA(X, order=(3,1,3))\n",
    "model_fit = model.fit()"
   ]
  },
  {
   "cell_type": "code",
   "execution_count": 108,
   "id": "4649f59a",
   "metadata": {},
   "outputs": [
    {
     "data": {
      "text/plain": [
       "array([285.42340898, 286.31684867, 301.74727047, 309.57920908,\n",
       "       322.48027776, 325.5521459 , 328.29566959, 322.59323859,\n",
       "       316.87151067, 307.51815066, 301.28148545, 295.99177013])"
      ]
     },
     "execution_count": 108,
     "metadata": {},
     "output_type": "execute_result"
    }
   ],
   "source": [
    "forecast=model_fit.forecast(steps=12)\n",
    "forecast"
   ]
  },
  {
   "cell_type": "code",
   "execution_count": 109,
   "id": "279cc18a",
   "metadata": {},
   "outputs": [
    {
     "data": {
      "image/png": "[encoded data removed]",
      "text/plain": [
       "<Figure size 432x288 with 1 Axes>"
      ]
     },
     "execution_count": 109,
     "metadata": {},
     "output_type": "execute_result"
    },
    {
     "data": {
      "image/png": "[encoded data removed]",
      "text/plain": [
       "<Figure size 432x288 with 1 Axes>"
      ]
     },
     "metadata": {
      "needs_background": "light"
     },
     "output_type": "display_data"
    }
   ],
   "source": [
    "#model_fit.plot_predict(1,90)\n",
    "from statsmodels.graphics.tsaplots import plot_predict\n",
    "plot_predict(model_fit,1,96)"
   ]
  },
  {
   "cell_type": "markdown",
   "id": "0e0d3ee9",
   "metadata": {},
   "source": [
    "### Comparing above models the Holts winter exponential smoothing with multiplicative seasonality and additive trend gives minimum error i.e 2.82"
   ]
  }
 ],
 "metadata": {
  "kernelspec": {
   "display_name": "Python 3 (ipykernel)",
   "language": "python",
   "name": "python3"
  },
  "language_info": {
   "codemirror_mode": {
    "name": "ipython",
    "version": 3
   },
   "file_extension": ".py",
   "mimetype": "text/x-python",
   "name": "python",
   "nbconvert_exporter": "python",
   "pygments_lexer": "ipython3",
   "version": "3.9.12"
  }
 },
 "nbformat": 4,
 "nbformat_minor": 5
}
